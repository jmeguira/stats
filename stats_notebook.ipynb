{
 "cells": [
  {
   "cell_type": "markdown",
   "metadata": {},
   "source": [
    "# Statistics for Data Science and Business Analysis\n",
    "\n",
    "This notebook is meant to serve as a personal reference for the material covered in the Udemy course [Statistics for Data Science and Business Analysis](https://www.udemy.com/statistics-for-data-science-and-business-analysis).\n",
    "\n",
    "I will define and illustrate (where applicable) the concepts that are covered."
   ]
  },
  {
   "cell_type": "markdown",
   "metadata": {},
   "source": [
    "**Contents:**\n",
    "- Section 2: Sample vs. Population Data \n",
    "    - [Terms](#section2terms)\n",
    "    - [Notes](#section2notes)\n",
    "    \n",
    "     \n",
    "- Section 3: Fundamentals of Descriptive Statistics\n",
    "    - [Types of Data](#s3_1)\n",
    "    - [Levels of Measurement](#s3_2)\n",
    "    - [Categorical Variables: Visualization Techniques](#s3_3)\n",
    "    - [The Histogram](#s3_4)\n",
    "    - [Cross Table and Scatter Plot](#s3_5)"
   ]
  },
  {
   "cell_type": "markdown",
   "metadata": {},
   "source": [
    "## Section 2: Sample vs. Population Data"
   ]
  },
  {
   "cell_type": "markdown",
   "metadata": {},
   "source": [
    "<a id='section2terms'></a>\n",
    "### Terms\n",
    "\n",
    "* **population**\n",
    "    - the collections of all items of interest in a study; denoted N\n",
    "* **sample**\n",
    "    - a subset of the population; denoted n\n",
    "* **parameter**\n",
    "    - a value that refers to a population, the opposite of a statistic\n",
    "* **statistic**\n",
    "    - a value that refers to a sample, the opposite of a parameter\n",
    "* **random sample**\n",
    "    - a random sample is collected when each member of the sample is chosen from the population strictly by chance"
   ]
  },
  {
   "cell_type": "markdown",
   "metadata": {},
   "source": [
    "<a id='section2notes'></a>\n",
    "### Notes\n",
    "\n",
    "* You will almost always be working with sample data and be making data driven decisions and inferences based on  it\n",
    "* Samples are key to accurate statistical insights and have two defining characteristics, randomness and representativeness\n",
    "    * a random sample is chosen when each member of the population is chosen strictly by chance\n",
    "    * a representative sample is a subset of the population that accurately reflects the members of the entire population\n",
    "    "
   ]
  },
  {
   "cell_type": "code",
   "execution_count": 1,
   "metadata": {},
   "outputs": [],
   "source": [
    "import pandas as pd\n",
    "import matplotlib.pyplot as plt\n",
    "import numpy as np\n",
    "\n",
    "df = pd.read_csv('mtcars.csv')\n",
    "diamonds = pd.read_csv('diamonds.csv')"
   ]
  },
  {
   "cell_type": "code",
   "execution_count": 2,
   "metadata": {},
   "outputs": [
    {
     "name": "stdout",
     "output_type": "stream",
     "text": [
      "<class 'pandas.core.frame.DataFrame'>\n",
      "RangeIndex: 32 entries, 0 to 31\n",
      "Data columns (total 12 columns):\n",
      "model    32 non-null object\n",
      "mpg      32 non-null float64\n",
      "cyl      32 non-null int64\n",
      "disp     32 non-null float64\n",
      "hp       32 non-null int64\n",
      "drat     32 non-null float64\n",
      "wt       32 non-null float64\n",
      "qsec     32 non-null float64\n",
      "vs       32 non-null int64\n",
      "am       32 non-null int64\n",
      "gear     32 non-null int64\n",
      "carb     32 non-null int64\n",
      "dtypes: float64(5), int64(6), object(1)\n",
      "memory usage: 3.1+ KB\n"
     ]
    }
   ],
   "source": [
    "df.info()"
   ]
  },
  {
   "cell_type": "markdown",
   "metadata": {},
   "source": [
    "The **population** of the mtcars dataset is all 32 entries within the dataset whereas a **sample** is a subset."
   ]
  },
  {
   "cell_type": "code",
   "execution_count": 3,
   "metadata": {},
   "outputs": [],
   "source": [
    "sample = df.sample(5)"
   ]
  },
  {
   "cell_type": "markdown",
   "metadata": {},
   "source": [
    "This **sample** of 5 cars pulled from the dataset is pulled using datas built in sample function."
   ]
  },
  {
   "cell_type": "markdown",
   "metadata": {},
   "source": [
    "The mean mpg of the mtcars **population** would be a **parameter**"
   ]
  },
  {
   "cell_type": "code",
   "execution_count": 4,
   "metadata": {},
   "outputs": [
    {
     "data": {
      "text/plain": [
       "20.090624999999996"
      ]
     },
     "execution_count": 4,
     "metadata": {},
     "output_type": "execute_result"
    }
   ],
   "source": [
    "df['mpg'].mean()"
   ]
  },
  {
   "cell_type": "markdown",
   "metadata": {},
   "source": [
    "The mean mpg of the **sample** that we pulled would be known as a **statistic**"
   ]
  },
  {
   "cell_type": "code",
   "execution_count": 5,
   "metadata": {},
   "outputs": [
    {
     "data": {
      "text/plain": [
       "19.86"
      ]
     },
     "execution_count": 5,
     "metadata": {},
     "output_type": "execute_result"
    }
   ],
   "source": [
    "sample['mpg'].mean()"
   ]
  },
  {
   "cell_type": "markdown",
   "metadata": {},
   "source": [
    "## Section 3: Fundamentals of Descriptive Statistics"
   ]
  },
  {
   "cell_type": "markdown",
   "metadata": {},
   "source": [
    "<a id='s3_1'></a>\n",
    "### **Types of Data**\n",
    "\n",
    "* **representative sample**\n",
    "    - A representative sample is a subset of the population that accurately reflects the members of the entire population.\n",
    "* **variable**\n",
    "   - a variable is a set of characteristics of a person, object, thing, idea, etc. variables can vary from case to case\n",
    "* **types of data**\n",
    "   - a way to classify data. there are two types of data - categorical and numerical\n",
    "* **categorical data**\n",
    "   - a subset of types of data. describes categories or groups\n",
    "* **numerical data**\n",
    "    - A subset of types of data. Represents numbers. Can be further divided into discrete and continuous.\n",
    "* **discrete data**\n",
    "    - Data that can be counted in a finite matter. Opposite of continuous.\n",
    "* **continuous data**\n",
    "    - Data that is 'infinite' and impossible to count. Opposite of discrete.\n",
    "        \n",
    "        "
   ]
  },
  {
   "cell_type": "markdown",
   "metadata": {},
   "source": [
    "### **Types of Data**\n",
    "\n",
    "\n",
    "- We can classify data in two main ways, based on its type and its measurement level.\n",
    "- Numbers can be both interval or ratio, but you have to be careful with the context you are operating in."
   ]
  },
  {
   "cell_type": "markdown",
   "metadata": {},
   "source": [
    "<a id='s3_2'></a>\n",
    "###  **Levels of Measurement**\n",
    "\n",
    "\n",
    "* **levels of measurement**\n",
    "    - A way to classify data. There are two levels of measurement - qualitative and quantitative, which are further divided into nominal & ordinal, and ratio & interval, respectively. \n",
    "* **qualitative data**\n",
    "    - A subset of levels of measurement. There are two types of qualitative data : nominal and ordinal.\n",
    "* **quantitative data**\n",
    "    - A subset of levels of measurement. There are two types of quantitative data - ratio and interval.\n",
    "* **nominal**\n",
    "    - Refers to variables that describe different categories and cannot be put in any order.\n",
    "* **ordinal**\n",
    "    - Refers to variables that describe different categories, but can be ordered.\n",
    "* **ratio**\n",
    "    - A number, no matter if whole or a fraction. There exists a unique and unambiguous zero point. \n",
    "* **interval**\n",
    "    - An interval variable represents a number or an interval. There isn't a unique and unambiguous zero point. For example, degrees in Celsius and Fahrenheit are interval variables, while Kelvin is a ratio variable.\n",
    "        \n",
    "        "
   ]
  },
  {
   "cell_type": "markdown",
   "metadata": {},
   "source": [
    "<a id='s3_3'></a>\n",
    "### **Categorical Variables: Visualization Techniques**\n",
    "* **frequency distribution table**\n",
    "    - A table that represents the frequency of each variable.\n",
    "* **frequency**\n",
    "    - Measures the occurrence of a variable.\n",
    "* **absolute frequency**\n",
    "    - Measures the NUMBER of occurrences of a variable.\n",
    "* **relative frequency**\n",
    "    - Measures the RELATIVE NUMBER of occurrences of a variable. Usually, expressed in percentages. \n",
    "* **cumulative frequency**\n",
    "    - The sum of relative frequencies so far. The cumulative frequency of all members is 100% or 1. \n",
    "* **pareto diagram**\n",
    "    - A special type of bar chart, where frequencies are shown in descending order. There is an additional line on the chart, showing the cumulative frequency.\n",
    "        \n",
    "        "
   ]
  },
  {
   "cell_type": "markdown",
   "metadata": {},
   "source": [
    "**Notes**\n",
    "\n",
    "\n",
    "- Visualizing data is the most intuitive way to interpret it. It is much easier to visualize data if you know what type it is.\n",
    "- Some of the most common ways to visualize categorical data are frequency distribution tables, bar charts, pie charts, and pareto diagrams."
   ]
  },
  {
   "cell_type": "markdown",
   "metadata": {},
   "source": [
    "**Frequency Distribution Table**"
   ]
  },
  {
   "cell_type": "code",
   "execution_count": 6,
   "metadata": {
    "scrolled": false
   },
   "outputs": [
    {
     "data": {
      "text/plain": [
       "Fair          1610\n",
       "Good          4906\n",
       "Very Good    12082\n",
       "Premium      13791\n",
       "Ideal        21551\n",
       "Name: cut, dtype: int64"
      ]
     },
     "execution_count": 6,
     "metadata": {},
     "output_type": "execute_result"
    }
   ],
   "source": [
    "diamonds['cut'].value_counts(ascending=True)"
   ]
  },
  {
   "cell_type": "code",
   "execution_count": 7,
   "metadata": {
    "scrolled": true
   },
   "outputs": [
    {
     "data": {
      "text/plain": [
       "Ideal        21551\n",
       "Premium      13791\n",
       "Very Good    12082\n",
       "Good          4906\n",
       "Fair          1610\n",
       "Name: cut, dtype: int64"
      ]
     },
     "execution_count": 7,
     "metadata": {},
     "output_type": "execute_result"
    }
   ],
   "source": [
    "diamonds['cut'].value_counts(ascending=False)"
   ]
  },
  {
   "cell_type": "markdown",
   "metadata": {},
   "source": [
    "#### **Bar Chart**"
   ]
  },
  {
   "cell_type": "code",
   "execution_count": 8,
   "metadata": {},
   "outputs": [
    {
     "data": {
      "image/png": "[encoded data removed]",
      "text/plain": [
       "<matplotlib.figure.Figure at 0x14acfddc0f0>"
      ]
     },
     "metadata": {},
     "output_type": "display_data"
    }
   ],
   "source": [
    "y_pos = np.arange(len(diamonds['cut'].unique()))\n",
    "plt.bar(y_pos, diamonds['cut'].value_counts(), align = 'center')\n",
    "plt.xticks(y_pos, diamonds['cut'].unique())\n",
    "plt.xlabel('Cut')\n",
    "plt.ylabel('Count')\n",
    "plt.title('Diamond Cut Bar Chart')\n",
    "\n",
    "plt.show()"
   ]
  },
  {
   "cell_type": "code",
   "execution_count": 9,
   "metadata": {
    "scrolled": true
   },
   "outputs": [
    {
     "data": {
      "image/png": "[encoded data removed]",
      "text/plain": [
       "<matplotlib.figure.Figure at 0x14ad04b9b38>"
      ]
     },
     "metadata": {},
     "output_type": "display_data"
    }
   ],
   "source": [
    "y_pos = np.arange(len(diamonds['color'].unique()))\n",
    "plt.bar(y_pos, diamonds['color'].value_counts(ascending = True), align = 'center')\n",
    "plt.xticks(y_pos, diamonds['color'].unique())\n",
    "plt.xlabel('Color')\n",
    "plt.ylabel('Count')\n",
    "plt.title('Diamond Color Bar Chart')\n",
    "\n",
    "plt.show()"
   ]
  },
  {
   "cell_type": "markdown",
   "metadata": {},
   "source": [
    "#### Pie Chart"
   ]
  },
  {
   "cell_type": "code",
   "execution_count": 10,
   "metadata": {
    "scrolled": true
   },
   "outputs": [
    {
     "data": {
      "image/png": "[encoded data removed]",
      "text/plain": [
       "<matplotlib.figure.Figure at 0x14ace649278>"
      ]
     },
     "metadata": {},
     "output_type": "display_data"
    }
   ],
   "source": [
    "plt.pie(diamonds['color'].value_counts(), labels = diamonds['color'].unique())\n",
    "\n",
    "plt.show()"
   ]
  },
  {
   "cell_type": "code",
   "execution_count": 11,
   "metadata": {
    "scrolled": true
   },
   "outputs": [
    {
     "data": {
      "image/png": "[encoded data removed]",
      "text/plain": [
       "<matplotlib.figure.Figure at 0x14ad01e1ac8>"
      ]
     },
     "metadata": {},
     "output_type": "display_data"
    }
   ],
   "source": [
    "plt.pie(diamonds['cut'].value_counts(), explode = [0,0,.1,0,0], startangle = 90, labels = diamonds['cut'].unique())\n",
    "\n",
    "plt.show()"
   ]
  },
  {
   "cell_type": "markdown",
   "metadata": {},
   "source": [
    "#### Pareto Diagram"
   ]
  },
  {
   "cell_type": "code",
   "execution_count": 12,
   "metadata": {
    "scrolled": true
   },
   "outputs": [
    {
     "data": {
      "image/png": "[encoded data removed]",
      "text/plain": [
       "<matplotlib.figure.Figure at 0x14acb726470>"
      ]
     },
     "metadata": {},
     "output_type": "display_data"
    }
   ],
   "source": [
    "values = diamonds['cut'].value_counts()\n",
    "labels = np.arange(len(diamonds['cut'].unique()))\n",
    "\n",
    "yvalues = []\n",
    "xvalues = range(len(diamonds['cut'].unique()))\n",
    "\n",
    "tmp = 0\n",
    "for x in diamonds['cut'].value_counts():\n",
    "    tmp += x/len(diamonds)\n",
    "    yvalues.append(tmp)\n",
    "    \n",
    "fig, ax1 = plt.subplots()\n",
    "ax2 = ax1.twinx()\n",
    "    \n",
    "ax1.bar(labels, values, align = 'center')\n",
    "ax1.set_ylabel('Count')\n",
    "ax2.plot(xvalues, yvalues, color = 'orange', linewidth = 2, linestyle = '-')\n",
    "ax2.set_ylim(0,1)\n",
    "ax2.set_ylabel('Cumulative Frequency')\n",
    "plt.xticks(labels, diamonds['cut'].unique())\n",
    "plt.title('Diamond Cut Pareto Diagram')\n",
    "\n",
    "plt.show()"
   ]
  },
  {
   "cell_type": "markdown",
   "metadata": {},
   "source": [
    "The pareto diagram combines the best parts of bar and pie charts. It is named after the Italian economist Vilfredo Pareto. It shows how subtotals change with each additional category.\n",
    "\n",
    "Vilfredo Pareto is also the namesake of the Pareto Principle, which states that 80% of the effects come from 20% of the causes. In business, this principle applies to say that 80% of sales come from 20% of the customers. In software development, Microsoft has said that solving 20% of software bugs can fix 80% of the problems."
   ]
  },
  {
   "cell_type": "markdown",
   "metadata": {},
   "source": [
    "<a id='s3_4'></a>\n",
    "### **The Histogram**\n",
    "* **histogram**\n",
    "   - A type of bar chart that represents numerical data. It is divided into intervals (or bins) that are not overlapping and span from the first observation to the last. The intervals (bins) are adjacent - where one stops, the other starts.\n",
    "* **bins**\n",
    "   - The intervals that are represented in a histogram.\n"
   ]
  },
  {
   "cell_type": "markdown",
   "metadata": {},
   "source": [
    "When working with numerical variables, it makes much more sense to group the data into intervals and then plot the corresponding frequency. This allows for a meaningful visual representation.\n",
    "\n",
    "Interval width is described by the following formula\n",
    "\n",
    "$$\\frac{\\textsf{max} - \\textsf{min}}{\\textsf{number of intervals}}$$\n",
    "\n",
    "A number is included in an interval if:\n",
    "\n",
    "1.) That number is > than the lower bound\n",
    "\n",
    "2.) That number is $\\leq$ to the upper bound\n",
    "\n",
    "Relative frequency is given by the following formula\n",
    "\n",
    "$$\\textsf{relative frequency} = \\frac{\\textsf{frequency}}{\\textsf{total frequency}}$$\n",
    "\n",
    "Sometimes there is justification to create a histogram with unequal intervals, such as when targeting specific age groups with a study. In most cases, it is most appropriate to use equal intervals."
   ]
  },
  {
   "cell_type": "code",
   "execution_count": 13,
   "metadata": {},
   "outputs": [
    {
     "data": {
      "image/png": "[encoded data removed]",
      "text/plain": [
       "<matplotlib.figure.Figure at 0x14acfdbd588>"
      ]
     },
     "metadata": {},
     "output_type": "display_data"
    }
   ],
   "source": [
    "plt.hist(diamonds['price'], bins = 20)\n",
    "plt.xlabel('Price')\n",
    "plt.ylabel('Count')\n",
    "plt.title('Price Histogram for Diamonds Dataset')\n",
    "\n",
    "plt.show()"
   ]
  },
  {
   "cell_type": "markdown",
   "metadata": {},
   "source": [
    "<a id='s3_5'></a>\n",
    "### **Cross table and Scatter Plot**\n",
    "* **cross table**\n",
    "    - A table which represents categorical data. On one axis we have the categories, and on the other - their frequencies. It can be built with absolute or relative frequencies.\n",
    "* **contingency table**\n",
    "    - See cross table.\n",
    "    \n",
    "Cross tables are an easy way to get a feel for the distribution of two categorical variables.\n",
    "    "
   ]
  },
  {
   "cell_type": "code",
   "execution_count": 14,
   "metadata": {
    "scrolled": true
   },
   "outputs": [
    {
     "data": {
      "text/html": [
       "<div>\n",
       "<style scoped>\n",
       "    .dataframe tbody tr th:only-of-type {\n",
       "        vertical-align: middle;\n",
       "    }\n",
       "\n",
       "    .dataframe tbody tr th {\n",
       "        vertical-align: top;\n",
       "    }\n",
       "\n",
       "    .dataframe thead th {\n",
       "        text-align: right;\n",
       "    }\n",
       "</style>\n",
       "<table border=\"1\" class=\"dataframe\">\n",
       "  <thead>\n",
       "    <tr style=\"text-align: right;\">\n",
       "      <th>clarity</th>\n",
       "      <th>I1</th>\n",
       "      <th>IF</th>\n",
       "      <th>SI1</th>\n",
       "      <th>SI2</th>\n",
       "      <th>VS1</th>\n",
       "      <th>VS2</th>\n",
       "      <th>VVS1</th>\n",
       "      <th>VVS2</th>\n",
       "      <th>All</th>\n",
       "    </tr>\n",
       "    <tr>\n",
       "      <th>color</th>\n",
       "      <th></th>\n",
       "      <th></th>\n",
       "      <th></th>\n",
       "      <th></th>\n",
       "      <th></th>\n",
       "      <th></th>\n",
       "      <th></th>\n",
       "      <th></th>\n",
       "      <th></th>\n",
       "    </tr>\n",
       "  </thead>\n",
       "  <tbody>\n",
       "    <tr>\n",
       "      <th>D</th>\n",
       "      <td>42</td>\n",
       "      <td>73</td>\n",
       "      <td>2083</td>\n",
       "      <td>1370</td>\n",
       "      <td>705</td>\n",
       "      <td>1697</td>\n",
       "      <td>252</td>\n",
       "      <td>553</td>\n",
       "      <td>6775</td>\n",
       "    </tr>\n",
       "    <tr>\n",
       "      <th>E</th>\n",
       "      <td>102</td>\n",
       "      <td>158</td>\n",
       "      <td>2426</td>\n",
       "      <td>1713</td>\n",
       "      <td>1281</td>\n",
       "      <td>2470</td>\n",
       "      <td>656</td>\n",
       "      <td>991</td>\n",
       "      <td>9797</td>\n",
       "    </tr>\n",
       "    <tr>\n",
       "      <th>F</th>\n",
       "      <td>143</td>\n",
       "      <td>385</td>\n",
       "      <td>2131</td>\n",
       "      <td>1609</td>\n",
       "      <td>1364</td>\n",
       "      <td>2201</td>\n",
       "      <td>734</td>\n",
       "      <td>975</td>\n",
       "      <td>9542</td>\n",
       "    </tr>\n",
       "    <tr>\n",
       "      <th>G</th>\n",
       "      <td>150</td>\n",
       "      <td>681</td>\n",
       "      <td>1976</td>\n",
       "      <td>1548</td>\n",
       "      <td>2148</td>\n",
       "      <td>2347</td>\n",
       "      <td>999</td>\n",
       "      <td>1443</td>\n",
       "      <td>11292</td>\n",
       "    </tr>\n",
       "    <tr>\n",
       "      <th>H</th>\n",
       "      <td>162</td>\n",
       "      <td>299</td>\n",
       "      <td>2275</td>\n",
       "      <td>1563</td>\n",
       "      <td>1169</td>\n",
       "      <td>1643</td>\n",
       "      <td>585</td>\n",
       "      <td>608</td>\n",
       "      <td>8304</td>\n",
       "    </tr>\n",
       "    <tr>\n",
       "      <th>I</th>\n",
       "      <td>92</td>\n",
       "      <td>143</td>\n",
       "      <td>1424</td>\n",
       "      <td>912</td>\n",
       "      <td>962</td>\n",
       "      <td>1169</td>\n",
       "      <td>355</td>\n",
       "      <td>365</td>\n",
       "      <td>5422</td>\n",
       "    </tr>\n",
       "    <tr>\n",
       "      <th>J</th>\n",
       "      <td>50</td>\n",
       "      <td>51</td>\n",
       "      <td>750</td>\n",
       "      <td>479</td>\n",
       "      <td>542</td>\n",
       "      <td>731</td>\n",
       "      <td>74</td>\n",
       "      <td>131</td>\n",
       "      <td>2808</td>\n",
       "    </tr>\n",
       "    <tr>\n",
       "      <th>All</th>\n",
       "      <td>741</td>\n",
       "      <td>1790</td>\n",
       "      <td>13065</td>\n",
       "      <td>9194</td>\n",
       "      <td>8171</td>\n",
       "      <td>12258</td>\n",
       "      <td>3655</td>\n",
       "      <td>5066</td>\n",
       "      <td>53940</td>\n",
       "    </tr>\n",
       "  </tbody>\n",
       "</table>\n",
       "</div>"
      ],
      "text/plain": [
       "clarity   I1    IF    SI1   SI2   VS1    VS2  VVS1  VVS2    All\n",
       "color                                                          \n",
       "D         42    73   2083  1370   705   1697   252   553   6775\n",
       "E        102   158   2426  1713  1281   2470   656   991   9797\n",
       "F        143   385   2131  1609  1364   2201   734   975   9542\n",
       "G        150   681   1976  1548  2148   2347   999  1443  11292\n",
       "H        162   299   2275  1563  1169   1643   585   608   8304\n",
       "I         92   143   1424   912   962   1169   355   365   5422\n",
       "J         50    51    750   479   542    731    74   131   2808\n",
       "All      741  1790  13065  9194  8171  12258  3655  5066  53940"
      ]
     },
     "execution_count": 14,
     "metadata": {},
     "output_type": "execute_result"
    }
   ],
   "source": [
    "pd.crosstab(diamonds['color'], diamonds['clarity'], margins = True)"
   ]
  },
  {
   "cell_type": "markdown",
   "metadata": {},
   "source": [
    "An easy way to visualize two categorical variables at the same time is using what's known as a side-by side bar chart."
   ]
  },
  {
   "cell_type": "code",
   "execution_count": 50,
   "metadata": {
    "scrolled": true
   },
   "outputs": [
    {
     "data": {
      "image/png": "[encoded data removed]",
      "text/plain": [
       "<matplotlib.figure.Figure at 0x14ad2103470>"
      ]
     },
     "metadata": {},
     "output_type": "display_data"
    }
   ],
   "source": [
    "#https://stackoverflow.com/a/47494809\n",
    "ax = diamonds.groupby(['color','clarity'])['clarity'].count().plot.bar(figsize = (15,15), title = 'Color/Clarity Side-By-Side Bar Chart', yticks = range(0,2600,100));\n",
    "ax.set_ylabel('Count')\n",
    "plt.savefig('side_by_side.png')"
   ]
  },
  {
   "cell_type": "markdown",
   "metadata": {},
   "source": [
    "![Side-by-side Bar Chart](side_by_side.png)"
   ]
  },
  {
   "cell_type": "markdown",
   "metadata": {},
   "source": [
    "* **scatter plot**\n",
    "    - A plot that represents numerical data. Graphically, each observation looks like a point on the scatter plot."
   ]
  },
  {
   "cell_type": "code",
   "execution_count": 51,
   "metadata": {},
   "outputs": [
    {
     "name": "stdout",
     "output_type": "stream",
     "text": [
      "<class 'pandas.core.frame.DataFrame'>\n",
      "RangeIndex: 53940 entries, 0 to 53939\n",
      "Data columns (total 11 columns):\n",
      "Unnamed: 0    53940 non-null int64\n",
      "carat         53940 non-null float64\n",
      "cut           53940 non-null object\n",
      "color         53940 non-null object\n",
      "clarity       53940 non-null object\n",
      "depth         53940 non-null float64\n",
      "table         53940 non-null float64\n",
      "price         53940 non-null int64\n",
      "x             53940 non-null float64\n",
      "y             53940 non-null float64\n",
      "z             53940 non-null float64\n",
      "dtypes: float64(6), int64(2), object(3)\n",
      "memory usage: 4.5+ MB\n"
     ]
    }
   ],
   "source": [
    "diamonds.info()"
   ]
  },
  {
   "cell_type": "code",
   "execution_count": 79,
   "metadata": {},
   "outputs": [
    {
     "data": {
      "image/png": "[encoded data removed]",
      "text/plain": [
       "<matplotlib.figure.Figure at 0x14ad1d81ef0>"
      ]
     },
     "metadata": {},
     "output_type": "display_data"
    }
   ],
   "source": [
    "from matplotlib.pyplot import figure\n",
    "\n",
    "plt.scatter(diamonds['carat'],diamonds['price'], alpha = .15)\n",
    "plt.title('Carat vs. Price Histogram')\n",
    "plt.xlabel('Carat')\n",
    "plt.ylabel('Price',  horizontalalignment = 'right', rotation = 0);"
   ]
  },
  {
   "cell_type": "markdown",
   "metadata": {},
   "source": [
    "### **Mean, median, and mode**\n",
    "* **measures of central tendency**\n",
    "    - Measures that describe the data through the so called 'averages'. The most common are the mean, median and mode. There is also geometric mean, harmonic mean, weighted-average mean, etc.\n",
    "* **mean**\n",
    "    - The simple average of the dataset. Denoted μ.\n",
    "* **median**\n",
    "    - The middle number in an ordered dataset.\n",
    "* **mode**\n",
    "    - The value that occurs most often. A dataset can have 0, 1 or multiple modes.\n",
    "    \n",
    "    "
   ]
  },
  {
   "cell_type": "markdown",
   "metadata": {},
   "source": [
    "### **Skewness**\n",
    "* **measures of asymmetry**\n",
    "    - Measures that describe the data through the level of symmetry that is observed. The most common are skewness and kurtosis.\n",
    "* **skewness**\n",
    "    - A measure that describes the symmetry of the dataset around its mean.\n",
    "    \n",
    "    "
   ]
  },
  {
   "cell_type": "markdown",
   "metadata": {},
   "source": [
    "### **Variance**\n",
    "* **sample formula**\n",
    "    - A formula, that is calculated on a sample. The value obtained is a statistic.\n",
    "* **population formula**\n",
    "        - A formula, that is calculated on a population. The value obtained is a parameter.\n",
    "* **measures of variability**\n",
    "    - Measures that describe the data through the level of dispersion (variability). The most common ones are variance and standard deviation.\n",
    "* **variance**\n",
    "    - Measures the dispersion of the dataset around its mean. It is measured in units squared. Denoted σ2 for a population and s2 for a sample.\n",
    "    \n",
    "    "
   ]
  },
  {
   "cell_type": "markdown",
   "metadata": {},
   "source": [
    "### **Standard Deviation and Coefficient of Variation**\n",
    "* **standard deviation**\n",
    "    - Measures the dispersion of the dataset around its mean. It is measured in original units. It is equal to the square root of the variance. Denoted σ for a population and s for a sample.\n",
    "* **coefficient of variation**\n",
    "    - Measures the dispersion of the dataset around its mean. It is also called 'relative standard deviation'. It is useful for comparing different datasets in terms of variability.\n",
    "    \n",
    "    "
   ]
  },
  {
   "cell_type": "markdown",
   "metadata": {},
   "source": [
    "### **Covariance**\n",
    "* **univariate measure**\n",
    "    - A measure which refers to a single variable.\n",
    "* **multivariate measure**\n",
    "    - A measure which refers to multiple variables.\n",
    "* **covariance**\n",
    "    - A measure of relationship between two variables. Usually, because of its scale of measurement, covariance is not directly interpretable. Denoted σxy for a population and sxy for a sample.\n",
    "    \n",
    "    "
   ]
  },
  {
   "cell_type": "markdown",
   "metadata": {},
   "source": [
    "### **Correlation**\n",
    "* **linear correlation coefficient**\n",
    "    - A measure of relationship between two variables. Very useful for direct interpretation as it takes on values from [-1,1]. Denoted ρxy for a population and rxy for a sample.\n",
    "* **correlation**\n",
    "    - A measure of the relationship between two variables. There are several ways to compute it, the most common being the linear correlation coefficient."
   ]
  }
 ],
 "metadata": {
  "kernelspec": {
   "display_name": "Python 3",
   "language": "python",
   "name": "python3"
  },
  "language_info": {
   "codemirror_mode": {
    "name": "ipython",
    "version": 3
   },
   "file_extension": ".py",
   "mimetype": "text/x-python",
   "name": "python",
   "nbconvert_exporter": "python",
   "pygments_lexer": "ipython3",
   "version": "3.6.4"
  }
 },
 "nbformat": 4,
 "nbformat_minor": 2
}
