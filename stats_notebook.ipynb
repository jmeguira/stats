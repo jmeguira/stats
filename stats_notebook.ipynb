{
 "cells": [
  {
   "cell_type": "markdown",
   "metadata": {},
   "source": [
    "# Statistics for Data Science and Business Analysis\n",
    "\n",
    "This notebook is meant to serve as a personal reference for the material covered in the Udemy course [Statistics for Data Science and Business Analysis](https://www.udemy.com/statistics-for-data-science-and-business-analysis).\n",
    "\n",
    "I will define and illustrate (where applicable) the concepts that are covered."
   ]
  },
  {
   "cell_type": "markdown",
   "metadata": {},
   "source": [
    "**Contents:**\n",
    "- Section 2: Sample vs. Population Data \n",
    "    - [Terms](#section2terms)\n",
    "    - [Notes](#section2notes)\n",
    "    \n",
    "     \n",
    "- Section 3: Fundamentals of Descriptive Statistics\n",
    "    - [Types of Data](#s3_1)\n",
    "    - [Levels of Measurement](#s3_2)\n",
    "    - [Categorical Variables: Visualization Techniques](#s3_3)\n",
    "    - [The Histogram](#s3_4)\n",
    "    - [Cross Table and Scatter Plot](#s3_5)\n",
    "    - [Measures of Central Tendency](#s3_6)\n",
    "    - [Skewness](#s3_7)\n",
    "    - [Variance](#s3_8)\n",
    "    - [Standard Deviation and Coefficient of Variation](#s3_9)\n",
    "    - [Covariance](#s3_10)\n",
    "    - [Correlation](#s3_11)"
   ]
  },
  {
   "cell_type": "markdown",
   "metadata": {},
   "source": [
    "## Section 2: Sample vs. Population Data"
   ]
  },
  {
   "cell_type": "markdown",
   "metadata": {},
   "source": [
    "<a id='section2terms'></a>\n",
    "### Terms\n",
    "\n",
    "* **population**\n",
    "    - the collections of all items of interest in a study; denoted N\n",
    "* **sample**\n",
    "    - a subset of the population; denoted n\n",
    "* **parameter**\n",
    "    - a value that refers to a population, the opposite of a statistic\n",
    "* **statistic**\n",
    "    - a value that refers to a sample, the opposite of a parameter\n",
    "* **random sample**\n",
    "    - a random sample is collected when each member of the sample is chosen from the population strictly by chance"
   ]
  },
  {
   "cell_type": "markdown",
   "metadata": {},
   "source": [
    "<a id='section2notes'></a>\n",
    "### Notes\n",
    "\n",
    "* You will almost always be working with sample data and be making data driven decisions and inferences based on  it\n",
    "* Samples are key to accurate statistical insights and have two defining characteristics, randomness and representativeness\n",
    "    * a random sample is chosen when each member of the population is chosen strictly by chance\n",
    "    * a representative sample is a subset of the population that accurately reflects the members of the entire population\n",
    "    "
   ]
  },
  {
   "cell_type": "code",
   "execution_count": 1,
   "metadata": {},
   "outputs": [],
   "source": [
    "import pandas as pd\n",
    "import matplotlib.pyplot as plt\n",
    "import numpy as np\n",
    "\n",
    "df = pd.read_csv('data/mtcars.csv')\n",
    "diamonds = pd.read_csv('data/diamonds.csv')"
   ]
  },
  {
   "cell_type": "code",
   "execution_count": 2,
   "metadata": {},
   "outputs": [
    {
     "name": "stdout",
     "output_type": "stream",
     "text": [
      "<class 'pandas.core.frame.DataFrame'>\n",
      "RangeIndex: 32 entries, 0 to 31\n",
      "Data columns (total 12 columns):\n",
      "model    32 non-null object\n",
      "mpg      32 non-null float64\n",
      "cyl      32 non-null int64\n",
      "disp     32 non-null float64\n",
      "hp       32 non-null int64\n",
      "drat     32 non-null float64\n",
      "wt       32 non-null float64\n",
      "qsec     32 non-null float64\n",
      "vs       32 non-null int64\n",
      "am       32 non-null int64\n",
      "gear     32 non-null int64\n",
      "carb     32 non-null int64\n",
      "dtypes: float64(5), int64(6), object(1)\n",
      "memory usage: 3.1+ KB\n"
     ]
    }
   ],
   "source": [
    "df.info()"
   ]
  },
  {
   "cell_type": "markdown",
   "metadata": {},
   "source": [
    "The **population** of the mtcars dataset is all 32 entries within the dataset whereas a **sample** is a subset."
   ]
  },
  {
   "cell_type": "code",
   "execution_count": 3,
   "metadata": {},
   "outputs": [],
   "source": [
    "sample = df.sample(5)"
   ]
  },
  {
   "cell_type": "markdown",
   "metadata": {},
   "source": [
    "This **sample** of 5 cars pulled from the dataset is pulled using datas built in sample function."
   ]
  },
  {
   "cell_type": "markdown",
   "metadata": {},
   "source": [
    "The mean mpg of the mtcars **population** would be a **parameter**"
   ]
  },
  {
   "cell_type": "code",
   "execution_count": 4,
   "metadata": {},
   "outputs": [
    {
     "data": {
      "text/plain": [
       "20.090624999999996"
      ]
     },
     "execution_count": 4,
     "metadata": {},
     "output_type": "execute_result"
    }
   ],
   "source": [
    "df['mpg'].mean()"
   ]
  },
  {
   "cell_type": "markdown",
   "metadata": {},
   "source": [
    "The mean mpg of the **sample** that we pulled would be known as a **statistic**"
   ]
  },
  {
   "cell_type": "code",
   "execution_count": 5,
   "metadata": {},
   "outputs": [
    {
     "data": {
      "text/plain": [
       "21.419999999999998"
      ]
     },
     "execution_count": 5,
     "metadata": {},
     "output_type": "execute_result"
    }
   ],
   "source": [
    "sample['mpg'].mean()"
   ]
  },
  {
   "cell_type": "markdown",
   "metadata": {},
   "source": [
    "## Section 3: Fundamentals of Descriptive Statistics"
   ]
  },
  {
   "cell_type": "markdown",
   "metadata": {},
   "source": [
    "<a id='s3_1'></a>\n",
    "### **Types of Data**\n",
    "\n",
    "* **representative sample**\n",
    "    - A representative sample is a subset of the population that accurately reflects the members of the entire population.\n",
    "* **variable**\n",
    "   - a variable is a set of characteristics of a person, object, thing, idea, etc. variables can vary from case to case\n",
    "* **types of data**\n",
    "   - a way to classify data. there are two types of data - categorical and numerical\n",
    "* **categorical data**\n",
    "   - a subset of types of data. describes categories or groups\n",
    "* **numerical data**\n",
    "    - A subset of types of data. Represents numbers. Can be further divided into discrete and continuous.\n",
    "* **discrete data**\n",
    "    - Data that can be counted in a finite matter. Opposite of continuous.\n",
    "* **continuous data**\n",
    "    - Data that is 'infinite' and impossible to count. Opposite of discrete.\n",
    "        \n",
    "        "
   ]
  },
  {
   "cell_type": "markdown",
   "metadata": {},
   "source": [
    "### **Types of Data**\n",
    "\n",
    "\n",
    "- We can classify data in two main ways, based on its type and its measurement level.\n",
    "- Numbers can be both interval or ratio, but you have to be careful with the context you are operating in."
   ]
  },
  {
   "cell_type": "markdown",
   "metadata": {},
   "source": [
    "<a id='s3_2'></a>\n",
    "###  **Levels of Measurement**\n",
    "\n",
    "\n",
    "* **levels of measurement**\n",
    "    - A way to classify data. There are two levels of measurement - qualitative and quantitative, which are further divided into nominal & ordinal, and ratio & interval, respectively. \n",
    "* **qualitative data**\n",
    "    - A subset of levels of measurement. There are two types of qualitative data : nominal and ordinal.\n",
    "* **quantitative data**\n",
    "    - A subset of levels of measurement. There are two types of quantitative data - ratio and interval.\n",
    "* **nominal**\n",
    "    - Refers to variables that describe different categories and cannot be put in any order.\n",
    "* **ordinal**\n",
    "    - Refers to variables that describe different categories, but can be ordered.\n",
    "* **ratio**\n",
    "    - A number, no matter if whole or a fraction. There exists a unique and unambiguous zero point. \n",
    "* **interval**\n",
    "    - An interval variable represents a number or an interval. There isn't a unique and unambiguous zero point. For example, degrees in Celsius and Fahrenheit are interval variables, while Kelvin is a ratio variable.\n",
    "        \n",
    "        "
   ]
  },
  {
   "cell_type": "markdown",
   "metadata": {},
   "source": [
    "<a id='s3_3'></a>\n",
    "### **Categorical Variables: Visualization Techniques**\n",
    "* **frequency distribution table**\n",
    "    - A table that represents the frequency of each variable.\n",
    "* **frequency**\n",
    "    - Measures the occurrence of a variable.\n",
    "* **absolute frequency**\n",
    "    - Measures the NUMBER of occurrences of a variable.\n",
    "* **relative frequency**\n",
    "    - Measures the RELATIVE NUMBER of occurrences of a variable. Usually, expressed in percentages. \n",
    "* **cumulative frequency**\n",
    "    - The sum of relative frequencies so far. The cumulative frequency of all members is 100% or 1. \n",
    "* **pareto diagram**\n",
    "    - A special type of bar chart, where frequencies are shown in descending order. There is an additional line on the chart, showing the cumulative frequency.\n",
    "        \n",
    "        "
   ]
  },
  {
   "cell_type": "markdown",
   "metadata": {},
   "source": [
    "**Notes**\n",
    "\n",
    "\n",
    "- Visualizing data is the most intuitive way to interpret it. It is much easier to visualize data if you know what type it is.\n",
    "- Some of the most common ways to visualize categorical data are frequency distribution tables, bar charts, pie charts, and pareto diagrams."
   ]
  },
  {
   "cell_type": "markdown",
   "metadata": {},
   "source": [
    "**Frequency Distribution Table**"
   ]
  },
  {
   "cell_type": "code",
   "execution_count": 6,
   "metadata": {
    "scrolled": false
   },
   "outputs": [
    {
     "data": {
      "text/plain": [
       "Fair          1610\n",
       "Good          4906\n",
       "Very Good    12082\n",
       "Premium      13791\n",
       "Ideal        21551\n",
       "Name: cut, dtype: int64"
      ]
     },
     "execution_count": 6,
     "metadata": {},
     "output_type": "execute_result"
    }
   ],
   "source": [
    "diamonds['cut'].value_counts(ascending=True)"
   ]
  },
  {
   "cell_type": "code",
   "execution_count": 7,
   "metadata": {
    "scrolled": true
   },
   "outputs": [
    {
     "data": {
      "text/plain": [
       "Ideal        21551\n",
       "Premium      13791\n",
       "Very Good    12082\n",
       "Good          4906\n",
       "Fair          1610\n",
       "Name: cut, dtype: int64"
      ]
     },
     "execution_count": 7,
     "metadata": {},
     "output_type": "execute_result"
    }
   ],
   "source": [
    "diamonds['cut'].value_counts(ascending=False)"
   ]
  },
  {
   "cell_type": "markdown",
   "metadata": {},
   "source": [
    "#### **Bar Chart**"
   ]
  },
  {
   "cell_type": "code",
   "execution_count": 8,
   "metadata": {},
   "outputs": [
    {
     "data": {
      "image/png": "[encoded data removed]",
      "text/plain": [
       "<matplotlib.figure.Figure at 0x2f96a06c198>"
      ]
     },
     "metadata": {},
     "output_type": "display_data"
    }
   ],
   "source": [
    "y_pos = np.arange(len(diamonds['cut'].unique()))\n",
    "plt.bar(y_pos, diamonds['cut'].value_counts(), align = 'center')\n",
    "plt.xticks(y_pos, diamonds['cut'].unique())\n",
    "plt.xlabel('Cut')\n",
    "plt.ylabel('Count')\n",
    "plt.title('Diamond Cut Bar Chart')\n",
    "\n",
    "plt.show()"
   ]
  },
  {
   "cell_type": "code",
   "execution_count": 9,
   "metadata": {
    "scrolled": true
   },
   "outputs": [
    {
     "data": {
      "image/png": "[encoded data removed]",
      "text/plain": [
       "<matplotlib.figure.Figure at 0x2f968c994a8>"
      ]
     },
     "metadata": {},
     "output_type": "display_data"
    }
   ],
   "source": [
    "y_pos = np.arange(len(diamonds['color'].unique()))\n",
    "plt.bar(y_pos, diamonds['color'].value_counts(ascending = True), align = 'center')\n",
    "plt.xticks(y_pos, diamonds['color'].unique())\n",
    "plt.xlabel('Color')\n",
    "plt.ylabel('Count')\n",
    "plt.title('Diamond Color Bar Chart')\n",
    "\n",
    "plt.show()"
   ]
  },
  {
   "cell_type": "markdown",
   "metadata": {},
   "source": [
    "#### Pie Chart"
   ]
  },
  {
   "cell_type": "code",
   "execution_count": 10,
   "metadata": {
    "scrolled": true
   },
   "outputs": [
    {
     "data": {
      "image/png": "[encoded data removed]",
      "text/plain": [
       "<matplotlib.figure.Figure at 0x2f96a04ea58>"
      ]
     },
     "metadata": {},
     "output_type": "display_data"
    }
   ],
   "source": [
    "plt.pie(diamonds['color'].value_counts(), labels = diamonds['color'].unique())\n",
    "\n",
    "plt.show()"
   ]
  },
  {
   "cell_type": "code",
   "execution_count": 11,
   "metadata": {
    "scrolled": true
   },
   "outputs": [
    {
     "data": {
      "image/png": "[encoded data removed]",
      "text/plain": [
       "<matplotlib.figure.Figure at 0x2f96a04eda0>"
      ]
     },
     "metadata": {},
     "output_type": "display_data"
    }
   ],
   "source": [
    "plt.pie(diamonds['cut'].value_counts(), explode = [0,0,.1,0,0], startangle = 90, labels = diamonds['cut'].unique())\n",
    "\n",
    "plt.show()"
   ]
  },
  {
   "cell_type": "markdown",
   "metadata": {},
   "source": [
    "#### Pareto Diagram"
   ]
  },
  {
   "cell_type": "code",
   "execution_count": 12,
   "metadata": {
    "scrolled": true
   },
   "outputs": [
    {
     "data": {
      "image/png": "[encoded data removed]",
      "text/plain": [
       "<matplotlib.figure.Figure at 0x2f96a351780>"
      ]
     },
     "metadata": {},
     "output_type": "display_data"
    }
   ],
   "source": [
    "values = diamonds['cut'].value_counts()\n",
    "labels = np.arange(len(diamonds['cut'].unique()))\n",
    "\n",
    "yvalues = []\n",
    "xvalues = range(len(diamonds['cut'].unique()))\n",
    "\n",
    "tmp = 0\n",
    "for x in diamonds['cut'].value_counts():\n",
    "    tmp += x/len(diamonds)\n",
    "    yvalues.append(tmp)\n",
    "    \n",
    "fig, ax1 = plt.subplots()\n",
    "ax2 = ax1.twinx()\n",
    "    \n",
    "ax1.bar(labels, values, align = 'center')\n",
    "ax1.set_ylabel('Count')\n",
    "ax2.plot(xvalues, yvalues, color = 'orange', linewidth = 2, linestyle = '-')\n",
    "ax2.set_ylim(0,1)\n",
    "ax2.set_ylabel('Cumulative Frequency')\n",
    "plt.xticks(labels, diamonds['cut'].unique())\n",
    "plt.title('Diamond Cut Pareto Diagram')\n",
    "\n",
    "plt.show()"
   ]
  },
  {
   "cell_type": "markdown",
   "metadata": {},
   "source": [
    "The pareto diagram combines the best parts of bar and pie charts. It is named after the Italian economist Vilfredo Pareto. It shows how subtotals change with each additional category.\n",
    "\n",
    "Vilfredo Pareto is also the namesake of the Pareto Principle, which states that 80% of the effects come from 20% of the causes. In business, this principle applies to say that 80% of sales come from 20% of the customers. In software development, Microsoft has said that solving 20% of software bugs can fix 80% of the problems."
   ]
  },
  {
   "cell_type": "markdown",
   "metadata": {},
   "source": [
    "<a id='s3_4'></a>\n",
    "### **The Histogram**\n",
    "* **histogram**\n",
    "   - A type of bar chart that represents numerical data. It is divided into intervals (or bins) that are not overlapping and span from the first observation to the last. The intervals (bins) are adjacent - where one stops, the other starts.\n",
    "* **bins**\n",
    "   - The intervals that are represented in a histogram.\n"
   ]
  },
  {
   "cell_type": "markdown",
   "metadata": {},
   "source": [
    "When working with numerical variables, it makes much more sense to group the data into intervals and then plot the corresponding frequency. This allows for a meaningful visual representation.\n",
    "\n",
    "Interval width is described by the following formula\n",
    "\n",
    "$$\\frac{\\textsf{max} - \\textsf{min}}{\\textsf{number of intervals}}$$\n",
    "\n",
    "A number is included in an interval if:\n",
    "\n",
    "1.) That number is $\\gt$ than the lower bound\n",
    "\n",
    "2.) That number is $\\leq$ to the upper bound\n",
    "\n",
    "Relative frequency is given by the following formula\n",
    "\n",
    "$$\\textsf{relative frequency} = \\frac{\\textsf{frequency}}{\\textsf{total frequency}}$$\n",
    "\n",
    "Sometimes there is justification to create a histogram with unequal intervals, such as when targeting specific age groups with a study. In most cases, it is most appropriate to use equal intervals."
   ]
  },
  {
   "cell_type": "code",
   "execution_count": 13,
   "metadata": {},
   "outputs": [
    {
     "data": {
      "image/png": "[encoded data removed]",
      "text/plain": [
       "<matplotlib.figure.Figure at 0x2f96a04e438>"
      ]
     },
     "metadata": {},
     "output_type": "display_data"
    }
   ],
   "source": [
    "plt.hist(diamonds['price'], bins = 20)\n",
    "plt.xlabel('Price')\n",
    "plt.ylabel('Count')\n",
    "plt.title('Price Histogram for Diamonds Dataset')\n",
    "\n",
    "plt.show()"
   ]
  },
  {
   "cell_type": "markdown",
   "metadata": {},
   "source": [
    "<a id='s3_5'></a>\n",
    "### **Cross table and Scatter Plot**\n",
    "* **cross table**\n",
    "    - A table which represents categorical data. On one axis we have the categories, and on the other - their frequencies. It can be built with absolute or relative frequencies.\n",
    "* **contingency table**\n",
    "    - See cross table.\n",
    "    \n",
    "Cross tables are an easy way to get a feel for the distribution of two categorical variables.\n",
    "    "
   ]
  },
  {
   "cell_type": "code",
   "execution_count": 14,
   "metadata": {
    "scrolled": true
   },
   "outputs": [
    {
     "data": {
      "text/html": [
       "<div>\n",
       "<style scoped>\n",
       "    .dataframe tbody tr th:only-of-type {\n",
       "        vertical-align: middle;\n",
       "    }\n",
       "\n",
       "    .dataframe tbody tr th {\n",
       "        vertical-align: top;\n",
       "    }\n",
       "\n",
       "    .dataframe thead th {\n",
       "        text-align: right;\n",
       "    }\n",
       "</style>\n",
       "<table border=\"1\" class=\"dataframe\">\n",
       "  <thead>\n",
       "    <tr style=\"text-align: right;\">\n",
       "      <th>clarity</th>\n",
       "      <th>I1</th>\n",
       "      <th>IF</th>\n",
       "      <th>SI1</th>\n",
       "      <th>SI2</th>\n",
       "      <th>VS1</th>\n",
       "      <th>VS2</th>\n",
       "      <th>VVS1</th>\n",
       "      <th>VVS2</th>\n",
       "      <th>All</th>\n",
       "    </tr>\n",
       "    <tr>\n",
       "      <th>color</th>\n",
       "      <th></th>\n",
       "      <th></th>\n",
       "      <th></th>\n",
       "      <th></th>\n",
       "      <th></th>\n",
       "      <th></th>\n",
       "      <th></th>\n",
       "      <th></th>\n",
       "      <th></th>\n",
       "    </tr>\n",
       "  </thead>\n",
       "  <tbody>\n",
       "    <tr>\n",
       "      <th>D</th>\n",
       "      <td>42</td>\n",
       "      <td>73</td>\n",
       "      <td>2083</td>\n",
       "      <td>1370</td>\n",
       "      <td>705</td>\n",
       "      <td>1697</td>\n",
       "      <td>252</td>\n",
       "      <td>553</td>\n",
       "      <td>6775</td>\n",
       "    </tr>\n",
       "    <tr>\n",
       "      <th>E</th>\n",
       "      <td>102</td>\n",
       "      <td>158</td>\n",
       "      <td>2426</td>\n",
       "      <td>1713</td>\n",
       "      <td>1281</td>\n",
       "      <td>2470</td>\n",
       "      <td>656</td>\n",
       "      <td>991</td>\n",
       "      <td>9797</td>\n",
       "    </tr>\n",
       "    <tr>\n",
       "      <th>F</th>\n",
       "      <td>143</td>\n",
       "      <td>385</td>\n",
       "      <td>2131</td>\n",
       "      <td>1609</td>\n",
       "      <td>1364</td>\n",
       "      <td>2201</td>\n",
       "      <td>734</td>\n",
       "      <td>975</td>\n",
       "      <td>9542</td>\n",
       "    </tr>\n",
       "    <tr>\n",
       "      <th>G</th>\n",
       "      <td>150</td>\n",
       "      <td>681</td>\n",
       "      <td>1976</td>\n",
       "      <td>1548</td>\n",
       "      <td>2148</td>\n",
       "      <td>2347</td>\n",
       "      <td>999</td>\n",
       "      <td>1443</td>\n",
       "      <td>11292</td>\n",
       "    </tr>\n",
       "    <tr>\n",
       "      <th>H</th>\n",
       "      <td>162</td>\n",
       "      <td>299</td>\n",
       "      <td>2275</td>\n",
       "      <td>1563</td>\n",
       "      <td>1169</td>\n",
       "      <td>1643</td>\n",
       "      <td>585</td>\n",
       "      <td>608</td>\n",
       "      <td>8304</td>\n",
       "    </tr>\n",
       "    <tr>\n",
       "      <th>I</th>\n",
       "      <td>92</td>\n",
       "      <td>143</td>\n",
       "      <td>1424</td>\n",
       "      <td>912</td>\n",
       "      <td>962</td>\n",
       "      <td>1169</td>\n",
       "      <td>355</td>\n",
       "      <td>365</td>\n",
       "      <td>5422</td>\n",
       "    </tr>\n",
       "    <tr>\n",
       "      <th>J</th>\n",
       "      <td>50</td>\n",
       "      <td>51</td>\n",
       "      <td>750</td>\n",
       "      <td>479</td>\n",
       "      <td>542</td>\n",
       "      <td>731</td>\n",
       "      <td>74</td>\n",
       "      <td>131</td>\n",
       "      <td>2808</td>\n",
       "    </tr>\n",
       "    <tr>\n",
       "      <th>All</th>\n",
       "      <td>741</td>\n",
       "      <td>1790</td>\n",
       "      <td>13065</td>\n",
       "      <td>9194</td>\n",
       "      <td>8171</td>\n",
       "      <td>12258</td>\n",
       "      <td>3655</td>\n",
       "      <td>5066</td>\n",
       "      <td>53940</td>\n",
       "    </tr>\n",
       "  </tbody>\n",
       "</table>\n",
       "</div>"
      ],
      "text/plain": [
       "clarity   I1    IF    SI1   SI2   VS1    VS2  VVS1  VVS2    All\n",
       "color                                                          \n",
       "D         42    73   2083  1370   705   1697   252   553   6775\n",
       "E        102   158   2426  1713  1281   2470   656   991   9797\n",
       "F        143   385   2131  1609  1364   2201   734   975   9542\n",
       "G        150   681   1976  1548  2148   2347   999  1443  11292\n",
       "H        162   299   2275  1563  1169   1643   585   608   8304\n",
       "I         92   143   1424   912   962   1169   355   365   5422\n",
       "J         50    51    750   479   542    731    74   131   2808\n",
       "All      741  1790  13065  9194  8171  12258  3655  5066  53940"
      ]
     },
     "execution_count": 14,
     "metadata": {},
     "output_type": "execute_result"
    }
   ],
   "source": [
    "pd.crosstab(diamonds['color'], diamonds['clarity'], margins = True)"
   ]
  },
  {
   "cell_type": "markdown",
   "metadata": {},
   "source": [
    "An easy way to visualize two categorical variables at the same time is using what's known as a side-by side bar chart."
   ]
  },
  {
   "cell_type": "code",
   "execution_count": 15,
   "metadata": {
    "scrolled": true
   },
   "outputs": [
    {
     "data": {
      "image/png": "[encoded data removed]",
      "text/plain": [
       "<matplotlib.figure.Figure at 0x2f96a7a7710>"
      ]
     },
     "metadata": {},
     "output_type": "display_data"
    }
   ],
   "source": [
    "#https://stackoverflow.com/a/47494809\n",
    "ax = diamonds.groupby(['color','clarity'])['clarity'].count().plot.bar(figsize = (15,15), title = 'Color/Clarity Side-By-Side Bar Chart', yticks = range(0,2600,100));\n",
    "ax.set_ylabel('Count')\n",
    "plt.savefig('img/side_by_side.png')"
   ]
  },
  {
   "cell_type": "code",
   "execution_count": 16,
   "metadata": {},
   "outputs": [
    {
     "data": {
      "text/plain": [
       "array(['E', 'I', 'J', 'H', 'F', 'G', 'D'], dtype=object)"
      ]
     },
     "execution_count": 16,
     "metadata": {},
     "output_type": "execute_result"
    }
   ],
   "source": [
    "diamonds['color'].unique()"
   ]
  },
  {
   "cell_type": "markdown",
   "metadata": {},
   "source": [
    "This plot has a bit too much going on to be readily interpreted. There is simply too much information to process. It might be easier to compare a few colors at a time. Further, the visual encoding is more confusing than anything as we are actually examining the color of the diamonds in this graph. There are also far too many colors for anyone to look at the graph and quickly decipher what's going on.\n",
    "\n",
    "I'll take another shot at the graph, looking at only three colors of diamond this time, and cycling through colors that represent the quality of the diamonds in question."
   ]
  },
  {
   "cell_type": "code",
   "execution_count": 17,
   "metadata": {},
   "outputs": [
    {
     "data": {
      "image/png": "[encoded data removed]",
      "text/plain": [
       "<matplotlib.figure.Figure at 0x2f96abc5e80>"
      ]
     },
     "metadata": {},
     "output_type": "display_data"
    }
   ],
   "source": [
    "diamonds2 = diamonds.query('color == \"D\" or color == \"E\"')\n",
    "#https://stackoverflow.com/a/11927922\n",
    "my_colors = [(x/10.0, x/15.0, .25) for x in range(len(diamonds['clarity'].unique()))] \n",
    "ax = diamonds2.groupby(['color','clarity'])['clarity'].count().plot.bar(figsize = (15,15), title = 'Color/Clarity Side-By-Side Bar Chart', yticks = range(0,2600,100), color = my_colors);\n",
    "ax.set_ylabel('Count')\n",
    "plt.savefig('img/side_by_side2.png')"
   ]
  },
  {
   "cell_type": "markdown",
   "metadata": {},
   "source": [
    "* **scatter plot**\n",
    "    - A plot that represents numerical data. Graphically, each observation looks like a point on the scatter plot."
   ]
  },
  {
   "cell_type": "code",
   "execution_count": 18,
   "metadata": {},
   "outputs": [
    {
     "data": {
      "image/png": "[encoded data removed]",
      "text/plain": [
       "<matplotlib.figure.Figure at 0x2f96a69c630>"
      ]
     },
     "metadata": {},
     "output_type": "display_data"
    }
   ],
   "source": [
    "plt.scatter(diamonds['carat'],diamonds['price'])\n",
    "plt.title('Carat vs. Price Histogram')\n",
    "plt.xlabel('Carat')\n",
    "plt.ylabel('Price',  horizontalalignment = 'right', rotation = 0);"
   ]
  },
  {
   "cell_type": "markdown",
   "metadata": {},
   "source": [
    "Outliers are points with extreme values that go against the logic of the dataset. These can be observed in the above graph in the top right. These are very large diamonds, much larger than the majority of the other observations. The bulk of the diamonds in the dataset fall in the 0-1.5 carat range. We can use a histogram to observe this distribution."
   ]
  },
  {
   "cell_type": "code",
   "execution_count": 19,
   "metadata": {},
   "outputs": [
    {
     "data": {
      "image/png": "[encoded data removed]",
      "text/plain": [
       "<matplotlib.figure.Figure at 0x2f96aca73c8>"
      ]
     },
     "metadata": {},
     "output_type": "display_data"
    }
   ],
   "source": [
    "plt.hist(diamonds['carat'], bins = 20)\n",
    "plt.title('Carat Histogram')\n",
    "plt.ylabel('Count')\n",
    "plt.xlabel('Carat')\n",
    "plt.show()"
   ]
  },
  {
   "cell_type": "markdown",
   "metadata": {},
   "source": [
    "Here we can see confirmed what we observed in the scatterplot. The vast majority of the diamonds are actually between 0 and 1 carats.\n",
    "\n",
    "Going back to the original histogram, we can describe this graph as overplotted. [Overplotting](https://www.displayr.com/what-is-overplotting/) is when the data or labels in a data visualization overlap, making it difficult to see individual data points in a data visualization.\n",
    "\n",
    "I will reduce the alpha which affects the opacity of the datapoints. With a value of .1, 10 identical data points will correspond with a fully colored in data point on the graph. I'll also reduce the size of the points to hopefully improve the visualization in the overplotted areas of the graph. You can also 'jitter' the points to add a small amount of random noise to the graph to improve the visualization."
   ]
  },
  {
   "cell_type": "code",
   "execution_count": 20,
   "metadata": {},
   "outputs": [
    {
     "data": {
      "image/png": "[encoded data removed]",
      "text/plain": [
       "<matplotlib.figure.Figure at 0x2f96acc5080>"
      ]
     },
     "metadata": {},
     "output_type": "display_data"
    }
   ],
   "source": [
    "plt.scatter(diamonds['carat'],diamonds['price'], alpha = .1, s = 5)\n",
    "plt.title('Carat vs. Price Histogram')\n",
    "plt.xlabel('Carat')\n",
    "plt.ylabel('Price',  horizontalalignment = 'right', rotation = 0)\n",
    "plt.show()"
   ]
  },
  {
   "cell_type": "markdown",
   "metadata": {},
   "source": [
    "<a id='s3_6'></a>\n",
    "### **Mean, median, and mode**"
   ]
  },
  {
   "cell_type": "markdown",
   "metadata": {},
   "source": [
    "* **measures of central tendency**\n",
    "    - Measures that describe the data through the so called 'averages'. The most common are the mean, median and mode. There is also geometric mean, harmonic mean, weighted-average mean, etc."
   ]
  },
  {
   "cell_type": "markdown",
   "metadata": {},
   "source": [
    "* **mean**\n",
    "    - The simple average of the dataset. Denoted by $\\mu$\n",
    "    \n",
    "The formula for the mean is:\n",
    "\n",
    "$$\\large\\frac{\\sum_{i = 1}^N{x_i}}{N}$$\n",
    "\n",
    "Where N is the number of components\n",
    "\n",
    "In other words, the mean is calculated by adding up all the components and then dividing by the number of components.\n",
    "\n",
    "-The most common measure of central tendency, the weakness is that it is very easily affected by outliers."
   ]
  },
  {
   "cell_type": "code",
   "execution_count": 21,
   "metadata": {},
   "outputs": [
    {
     "data": {
      "text/plain": [
       "3932.799721913237"
      ]
     },
     "execution_count": 21,
     "metadata": {},
     "output_type": "execute_result"
    }
   ],
   "source": [
    "diamonds['price'].mean()"
   ]
  },
  {
   "cell_type": "markdown",
   "metadata": {},
   "source": [
    "* **median**\n",
    "    - The middle number in an ordered dataset.\n",
    "    \n",
    "The median number is at the index given by the following formula in an ordered list:\n",
    "\n",
    "$$\\large\\frac{n+1}{2}$$\n",
    "\n",
    "There is no middle number in a an ordered list with an even number of elements. In cases like this, the median is the simple average of the middle two elements."
   ]
  },
  {
   "cell_type": "code",
   "execution_count": 22,
   "metadata": {},
   "outputs": [
    {
     "data": {
      "text/plain": [
       "0.7"
      ]
     },
     "execution_count": 22,
     "metadata": {},
     "output_type": "execute_result"
    }
   ],
   "source": [
    "diamonds['carat'].median()"
   ]
  },
  {
   "cell_type": "markdown",
   "metadata": {},
   "source": [
    "* **mode**\n",
    "    - The value that occurs most often. A dataset can have 0, 1 or multiple modes.\n",
    "    \n",
    "2 or 3 modes is usually tolerable and meaningful. When you have more than that the mode as a measure of central tendency is essentially meaningless."
   ]
  },
  {
   "cell_type": "code",
   "execution_count": 23,
   "metadata": {
    "scrolled": true
   },
   "outputs": [
    {
     "data": {
      "text/plain": [
       "0    605\n",
       "dtype: int64"
      ]
     },
     "execution_count": 23,
     "metadata": {},
     "output_type": "execute_result"
    }
   ],
   "source": [
    "diamonds['price'].mode()"
   ]
  },
  {
   "cell_type": "markdown",
   "metadata": {},
   "source": [
    "**There is no best measure of central tendency, however, you almost never want to use just one**"
   ]
  },
  {
   "cell_type": "markdown",
   "metadata": {},
   "source": [
    "<a id='s3_7'></a>\n",
    "### **Skewness**\n",
    "* **measures of asymmetry**\n",
    "    - Measures that describe the data through the level of symmetry that is observed. The most common are skewness and kurtosis.\n",
    "* **skewness**\n",
    "    - A measure that describes the symmetry of the dataset around its mean.\n",
    "    \n",
    "Software will almost always perform the calculation of skewness for you. \n",
    "\n",
    "Skewness measures whether a data distribution is concentrated on one side.\n",
    "\n",
    "$\\textsf{If mean} \\gt \\textsf{median} \\rightarrow \\textsf{positive/right skew}$\n",
    "\n",
    "The right skew indicates where the tail is as opposed to the concentration of the data. In other words, the outliers lie to the right\n",
    "\n",
    "$\\textsf{If mean} = \\textsf{median} = \\textsf{mode} \\rightarrow \\textsf{zero/no skew}$\n",
    "\n",
    "Another way to describe zero skew is to say that the distribution is symmetrical\n",
    "\n",
    "$\\textsf{If mean} \\lt \\textsf{median} \\rightarrow \\textsf{negative/left skew}$\n",
    "\n",
    "In a left skewed distribution, the outliers lie to the left.\n",
    "\n",
    "Skewness tells us about where the data is distributed, and is an important part of valid statistical analysis.\n",
    "\n",
    "**Measures of asymmetry are the link between measures of central tendency and probability theory.**"
   ]
  },
  {
   "cell_type": "code",
   "execution_count": 24,
   "metadata": {
    "scrolled": true
   },
   "outputs": [
    {
     "name": "stdout",
     "output_type": "stream",
     "text": [
      "Unnamed: 0 26970.5 26970.5\n",
      "carat 0.7979397478679852 0.7\n",
      "cut non-numerical data\n",
      "color non-numerical data\n",
      "clarity non-numerical data\n",
      "depth 61.74940489432624 61.8\n",
      "table 57.45718390804603 57.0\n",
      "price 3932.799721913237 2401.0\n",
      "x 5.731157211716609 5.7\n",
      "y 5.734525954764462 5.71\n",
      "z 3.5387337782723316 3.53\n"
     ]
    }
   ],
   "source": [
    "for x in list(diamonds):\n",
    "    try:\n",
    "        print(x, diamonds[x].mean(), diamonds[x].median())\n",
    "    except:\n",
    "        print(x, 'non-numerical data')"
   ]
  },
  {
   "cell_type": "markdown",
   "metadata": {},
   "source": [
    "Looking at this list, we can see that all of the numerical observations except for depth have a right skew as the mean is larger than the median.\n",
    "\n",
    "In the histogram for price for example, we should expect to see a heavy positive skew with a tail extending to the right side of the graph."
   ]
  },
  {
   "cell_type": "code",
   "execution_count": 25,
   "metadata": {
    "scrolled": false
   },
   "outputs": [
    {
     "data": {
      "text/plain": [
       "Text(0,0.5,'Count')"
      ]
     },
     "execution_count": 25,
     "metadata": {},
     "output_type": "execute_result"
    },
    {
     "data": {
      "image/png": "[encoded data removed]",
      "text/plain": [
       "<matplotlib.figure.Figure at 0x2f96b270550>"
      ]
     },
     "metadata": {},
     "output_type": "display_data"
    }
   ],
   "source": [
    "plt.hist(diamonds['price'])\n",
    "plt.title('Diamond Price Histogram')\n",
    "plt.xlabel('Price')\n",
    "plt.ylabel('Count', horizontalalignment = 'right', rotation = 0)"
   ]
  },
  {
   "cell_type": "markdown",
   "metadata": {},
   "source": [
    "Here we can see the skew reflected in the histogram as expected. The only numerical observation in diamonds with left skew was depth. Let's take a look at that and see what the distribution looks like."
   ]
  },
  {
   "cell_type": "code",
   "execution_count": 26,
   "metadata": {
    "scrolled": true
   },
   "outputs": [
    {
     "data": {
      "image/png": "[encoded data removed]",
      "text/plain": [
       "<matplotlib.figure.Figure at 0x2f96acdb390>"
      ]
     },
     "metadata": {},
     "output_type": "display_data"
    }
   ],
   "source": [
    "plt.hist(diamonds['depth'], bins = 30)\n",
    "plt.title('Diamond Depth Histogram')\n",
    "plt.xlabel('Depth')\n",
    "plt.ylabel('Count', horizontalalignment = 'right', rotation = 0)\n",
    "plt.show()"
   ]
  },
  {
   "cell_type": "markdown",
   "metadata": {},
   "source": [
    "It's a little trickier to see in this graph but there is a slight negative skew in the depth histogram as we expected since the mean is less than the median."
   ]
  },
  {
   "cell_type": "markdown",
   "metadata": {},
   "source": [
    "<a id='s3_8'></a>\n",
    "### **Variance**\n",
    "* **sample formula**\n",
    "    - A formula, that is calculated on a sample. The value obtained is a statistic.\n",
    "* **population formula**\n",
    "    - A formula, that is calculated on a population. The value obtained is a parameter.\n",
    "* **measures of variability**\n",
    "    - Measures that describe the data through the level of dispersion (variability). The most common ones are variance and standard deviation.\n",
    "* **variance**\n",
    "    - Measures the dispersion of the dataset around its mean. It is measured in units squared. Denoted $\\sigma ^2$ for a population and $s ^ 2$ for a sample.\n",
    "    \n",
    "In statistics, you will use different formulas based on if you are working with sample data or population data.\n",
    "\n",
    "When working with population data, you know every single data point, so you are 100% sure of the measures you calculate.\n",
    "\n",
    "When working with sample data and you generate a statistic, it is an approximation of the population parameter. If you extract 10 different samples, you will arrive at 10 different measures"
   ]
  },
  {
   "cell_type": "code",
   "execution_count": 27,
   "metadata": {},
   "outputs": [
    {
     "name": "stdout",
     "output_type": "stream",
     "text": [
      "Diamonds population mean price parameter:\n",
      "3932.799721913237\n",
      "Diamonds sample mean price statistic:\n",
      "3959.508\n",
      "3918.143\n",
      "4011.532\n",
      "4185.542\n",
      "3947.27\n",
      "3759.035\n",
      "4075.455\n",
      "4094.012\n",
      "4144.611\n",
      "3825.769\n"
     ]
    }
   ],
   "source": [
    "print('Diamonds population mean price parameter:')\n",
    "print(diamonds['price'].mean())\n",
    "print('Diamonds sample mean price statistic:')\n",
    "for i in range(10):\n",
    "    print(diamonds['price'].sample(1000).mean())"
   ]
  },
  {
   "cell_type": "markdown",
   "metadata": {},
   "source": [
    "Statistic formulas are adjusted to reflect this difference.\n",
    "\n",
    "Sample Mean:\n",
    "\n",
    "$\\huge\\frac{\\sum_{i=1}^n x_i}{n}$\n",
    "\n",
    "where\n",
    "\n",
    "$n = \\textsf{# of observations in the sample}$\n",
    "\n",
    "Population Mean:\n",
    "\n",
    "$\\huge\\frac{\\sum_{i=1}^N x_i}{N}$\n",
    "\n",
    "where\n",
    "\n",
    "$N = \\textsf{# of observations in the population}$\n",
    "\n",
    "Technically these are two different formulas but they are computed the same way.\n",
    "\n",
    "Population variance:\n",
    "\n",
    "$$\\large\\sigma^2 = \\frac{\\sum_{i=1}^N(x_i-\\mu)^2}{N}$$ \n",
    "\n",
    "The sum of squared differences between the observed value and the mean divided by total number of observations.\n",
    "\n",
    "Sample variance:\n",
    "\n",
    "$$\\large s^2 = \\frac{\\sum_{i=1}^{n}(x_i-\\bar{x})^2}{n-1}$$\n",
    "\n",
    "In the numerators of the above formulas, the difference between the mean and observation is squared because the distance from the mean should be non-negative. This also prevents negative values cancelling positive values in the equation. It also amplifies the effect of large differences."
   ]
  },
  {
   "cell_type": "code",
   "execution_count": 28,
   "metadata": {},
   "outputs": [
    {
     "name": "stdout",
     "output_type": "stream",
     "text": [
      "Diamonds carat variance parameter:\n",
      "0.22468665982273753\n",
      "Diamonds sample variance statistic:\n",
      "0.2259506865865876\n",
      "0.2376640399399393\n",
      "0.2198035811811814\n",
      "0.21931604394394344\n",
      "0.21384554314314275\n",
      "0.2211446342342343\n",
      "0.23516709349349335\n",
      "0.23116004794794837\n",
      "0.21139960120120133\n",
      "0.25407244994994876\n"
     ]
    }
   ],
   "source": [
    "print('Diamonds carat variance parameter:')\n",
    "print(diamonds['carat'].var())\n",
    "print('Diamonds sample variance statistic:')\n",
    "for i in range(10):\n",
    "    print(diamonds['carat'].sample(1000).var())"
   ]
  },
  {
   "cell_type": "code",
   "execution_count": 29,
   "metadata": {
    "scrolled": true
   },
   "outputs": [
    {
     "name": "stdout",
     "output_type": "stream",
     "text": [
      "Unnamed: 0 242464795.0\n",
      "carat 0.22468665982273753\n",
      "cut non-numerical data\n",
      "color non-numerical data\n",
      "clarity non-numerical data\n",
      "depth 2.05240384317702\n",
      "table 4.992948075335832\n",
      "price 15915629.424300838\n",
      "x 1.2583471730443379\n",
      "y 1.3044716138352839\n",
      "z 0.4980108625865544\n"
     ]
    }
   ],
   "source": [
    "for x in list(diamonds):\n",
    "    try:\n",
    "        print(x, diamonds[x].var())\n",
    "    except:\n",
    "        print(x, 'non-numerical data')"
   ]
  },
  {
   "cell_type": "markdown",
   "metadata": {},
   "source": [
    "Price has the highest variance so lets take a look at how the data is concentrated around the mean."
   ]
  },
  {
   "cell_type": "code",
   "execution_count": 30,
   "metadata": {
    "scrolled": false
   },
   "outputs": [
    {
     "data": {
      "image/png": "[encoded data removed]",
      "text/plain": [
       "<matplotlib.figure.Figure at 0x2f96ae9bd68>"
      ]
     },
     "metadata": {},
     "output_type": "display_data"
    }
   ],
   "source": [
    "plt.hist(diamonds['price'], bins = 30)\n",
    "plt.axvline(diamonds['price'].mean(), color = 'orange', label = 'Mean Price Parameter')\n",
    "plt.xlabel('Price')\n",
    "plt.ylabel('Count')\n",
    "plt.title('Price Distribution vs. Mean')\n",
    "plt.legend()\n",
    "plt.show()"
   ]
  },
  {
   "cell_type": "markdown",
   "metadata": {},
   "source": [
    "Now let's look at a variable with low variance. Depth seems to be a good example of this."
   ]
  },
  {
   "cell_type": "code",
   "execution_count": 31,
   "metadata": {},
   "outputs": [
    {
     "data": {
      "image/png": "[encoded data removed]",
      "text/plain": [
       "<matplotlib.figure.Figure at 0x2f96a7de358>"
      ]
     },
     "metadata": {},
     "output_type": "display_data"
    }
   ],
   "source": [
    "plt.hist(diamonds['depth'], bins = 30)\n",
    "plt.axvline(diamonds['depth'].mean(), color = 'orange', label = 'Mean Depth Parameter')\n",
    "plt.xlabel('Depth')\n",
    "plt.ylabel('Count', horizontalalignment = 'right', rotation = 0)\n",
    "plt.title('Depth Distribution vs. Mean')\n",
    "plt.legend()\n",
    "plt.show()"
   ]
  },
  {
   "cell_type": "markdown",
   "metadata": {},
   "source": [
    "We can see in this chart that the depth observations are much more closely concentrated around the mean compared with price observations."
   ]
  },
  {
   "cell_type": "markdown",
   "metadata": {},
   "source": [
    "<a id='s3_9'></a>\n",
    "### **Standard Deviation and Coefficient of Variation**"
   ]
  },
  {
   "cell_type": "markdown",
   "metadata": {},
   "source": [
    "* **standard deviation**\n",
    "    - Measures the dispersion of the dataset around its mean. It is measured in original units. It is equal to the square root of the variance. Denoted σ for a population and s for a sample.\n",
    "    \n",
    "In most analyses, the standard deviation is much more useful than the variance as it is measured in original units and the variance can be extremely large.\n",
    "\n",
    "Population standard deviation:\n",
    "\n",
    "$$\\large\\sigma = \\sqrt{\\sigma ^2}$$\n",
    "\n",
    "Sample standard deviation:\n",
    "\n",
    "$$\\large s = \\sqrt{s^2}$$"
   ]
  },
  {
   "cell_type": "code",
   "execution_count": 32,
   "metadata": {},
   "outputs": [
    {
     "name": "stdout",
     "output_type": "stream",
     "text": [
      "Diamonds carat standard deviation:\n",
      "0.47401124440538067\n",
      "Diamonds sample standard deviation statistic:\n",
      "0.47497028778048356\n",
      "0.46319372397078706\n",
      "0.4750387312590379\n",
      "0.480105603998736\n",
      "0.4537068519512438\n",
      "0.48171413816797143\n",
      "0.5002271627114171\n",
      "0.4926861833614535\n",
      "0.47187869193247106\n",
      "0.4836442508304645\n"
     ]
    }
   ],
   "source": [
    "print('Diamonds carat standard deviation:')\n",
    "print(diamonds['carat'].std())\n",
    "print('Diamonds sample standard deviation statistic:')\n",
    "for i in range(10):\n",
    "    print(diamonds['carat'].sample(1000).std())"
   ]
  },
  {
   "cell_type": "code",
   "execution_count": 33,
   "metadata": {
    "scrolled": true
   },
   "outputs": [
    {
     "data": {
      "image/png": "[encoded data removed]",
      "text/plain": [
       "<matplotlib.figure.Figure at 0x2f96aae02e8>"
      ]
     },
     "metadata": {},
     "output_type": "display_data"
    }
   ],
   "source": [
    "plt.hist(diamonds['carat'], bins = 30)\n",
    "plt.ylabel('Count', rotation = 0, horizontalalignment = 'right')\n",
    "plt.xlabel('Price')\n",
    "plt.title('Diamond Carat Distribution, Standard Deviation Illustrated')\n",
    "plt.axvline(diamonds['carat'].mean()+diamonds['carat'].std(), color = 'orange', label = 'mean + 1 std. deviation')\n",
    "plt.axvline(diamonds['carat'].mean()-diamonds['carat'].std(), color = 'orange', label = 'mean - 1 std. deviation')\n",
    "plt.axvline(diamonds['carat'].mean(), color = 'black', label = 'mean')\n",
    "plt.legend()\n",
    "plt.show()"
   ]
  },
  {
   "cell_type": "code",
   "execution_count": 38,
   "metadata": {},
   "outputs": [
    {
     "data": {
      "image/png": "[encoded data removed]",
      "text/plain": [
       "<matplotlib.figure.Figure at 0x2f96b6de080>"
      ]
     },
     "metadata": {},
     "output_type": "display_data"
    }
   ],
   "source": [
    "plt.hist(diamonds['depth'], bins = 30)\n",
    "plt.ylabel('Count')\n",
    "plt.xlabel('Depth')\n",
    "plt.title('Diamond Depth Distribution, Standard Deviation Illustrated')\n",
    "plt.axvline(diamonds['depth'].mean()+diamonds['depth'].std(), color = 'orange', label = 'mean + 1 std. deviation')\n",
    "plt.axvline(diamonds['depth'].mean()-diamonds['depth'].std(), color = 'orange', label = 'mean - 1 std. deviation')\n",
    "plt.axvline(diamonds['depth'].mean(), color = 'black', label = 'mean')\n",
    "plt.xlim(right = 90)\n",
    "plt.legend(loc = 1)\n",
    "plt.show()"
   ]
  },
  {
   "cell_type": "markdown",
   "metadata": {},
   "source": [
    "* **coefficient of variation**\n",
    "    - Measures the dispersion of the dataset around its mean. It is also called 'relative standard deviation'. It is useful for comparing different datasets in terms of variability.\n",
    "    \n",
    "Also known as the relative standard deviation.\n",
    "\n",
    "Coefficient of Variation is calculated as the standard deviation divided by or relative to the mean.\n",
    "\n",
    "Population formula:\n",
    "\n",
    "$$\\large c_v = \\frac{\\sigma}{\\mu}$$\n",
    "\n",
    "Sample formula:\n",
    "$$\\large\\widehat{c_v} = \\frac{s}{\\bar{x}}$$\n",
    "\n",
    "Standard deviation is the most common measure of variability for a **SINGLE DATASET**\n",
    "\n",
    "Comparing the standard deviation across two datasets is meaningless whereas a coefficient of variation is not. The coefficient of variation is universal across datasets and perfect for comparisons."
   ]
  },
  {
   "cell_type": "code",
   "execution_count": 35,
   "metadata": {},
   "outputs": [
    {
     "name": "stdout",
     "output_type": "stream",
     "text": [
      "Diamonds carat coefficient of variation parameter:\n",
      "0.5940439057859833\n",
      "Diamonds sample coefficient of variation statistic:\n",
      "0.6028371177753584\n",
      "0.5977990670065024\n",
      "0.5866118669661343\n",
      "0.571979396970052\n",
      "0.6047348405141157\n",
      "0.5802895360809456\n",
      "0.5704131257825211\n",
      "0.6004085839038946\n",
      "0.6068317974995335\n",
      "0.5969236905353325\n"
     ]
    }
   ],
   "source": [
    "print('Diamonds carat coefficient of variation parameter:')\n",
    "print(diamonds['carat'].std()/diamonds['carat'].mean())\n",
    "print('Diamonds sample coefficient of variation statistic:')\n",
    "for i in range(10):\n",
    "    sample = diamonds['carat'].sample(1000)\n",
    "    print(sample.std()/sample.mean())"
   ]
  },
  {
   "cell_type": "markdown",
   "metadata": {},
   "source": [
    "<a id='s3_10'></a>\n",
    "### **Covariance**\n",
    "* **univariate measure**\n",
    "    - A measure which refers to a single variable.\n",
    "* **multivariate measure**\n",
    "    - A measure which refers to multiple variables.\n",
    "* **covariance**\n",
    "    - A measure of relationship between two variables. Usually, because of its scale of measurement, covariance is not directly interpretable. Denoted σxy for a population and sxy for a sample.\n",
    "\n",
    "If there is a relationship between two variables, we can say that they are correlated.\n",
    "\n",
    "The main statistic used to measure correlation is called covariance. Covariance can be positive, negative, or zero.\n",
    "\n",
    "Sample Formula:\n",
    "\n",
    "$$\\large s_{xy} = \\frac{\\sum_{i=1}^n (x_i - \\bar{x})*(y_i-\\bar{y})}{n-1}$$\n",
    "    \n",
    "Population Formula:\n",
    "\n",
    "$$\\large \\sigma_{xy} = \\frac{\\sum_{i=1}^N(x_i-\\mu_x)*(y_i-\\mu_y)}{N}$$\n",
    "\n",
    "Covariance gives a sense of direction:\n",
    "\n",
    "if $\\gt 0 \\rightarrow$ the two variables move together\n",
    "\n",
    "if $\\lt 0 \\rightarrow$ the two variables move in opposite directions\n",
    "\n",
    "if $= 0 \\rightarrow$ the two variables are independent\n",
    "\n",
    "The issue with covariance is that it could be a number like 0,5,100923409234, -.00123120348 . These values vary wildly in their scale and thus covariance can be hard to interpret"
   ]
  },
  {
   "cell_type": "code",
   "execution_count": 42,
   "metadata": {},
   "outputs": [
    {
     "data": {
      "text/html": [
       "<div>\n",
       "<style scoped>\n",
       "    .dataframe tbody tr th:only-of-type {\n",
       "        vertical-align: middle;\n",
       "    }\n",
       "\n",
       "    .dataframe tbody tr th {\n",
       "        vertical-align: top;\n",
       "    }\n",
       "\n",
       "    .dataframe thead th {\n",
       "        text-align: right;\n",
       "    }\n",
       "</style>\n",
       "<table border=\"1\" class=\"dataframe\">\n",
       "  <thead>\n",
       "    <tr style=\"text-align: right;\">\n",
       "      <th></th>\n",
       "      <th>Unnamed: 0</th>\n",
       "      <th>carat</th>\n",
       "      <th>depth</th>\n",
       "      <th>table</th>\n",
       "      <th>price</th>\n",
       "      <th>x</th>\n",
       "      <th>y</th>\n",
       "      <th>z</th>\n",
       "    </tr>\n",
       "  </thead>\n",
       "  <tbody>\n",
       "    <tr>\n",
       "      <th>Unnamed: 0</th>\n",
       "      <td>2.424648e+08</td>\n",
       "      <td>-2789.881850</td>\n",
       "      <td>-776.314805</td>\n",
       "      <td>-3508.278095</td>\n",
       "      <td>-1.906317e+07</td>\n",
       "      <td>-7081.930753</td>\n",
       "      <td>-7039.864013</td>\n",
       "      <td>-4386.754198</td>\n",
       "    </tr>\n",
       "    <tr>\n",
       "      <th>carat</th>\n",
       "      <td>-2.789882e+03</td>\n",
       "      <td>0.224687</td>\n",
       "      <td>0.019167</td>\n",
       "      <td>0.192365</td>\n",
       "      <td>1.742765e+03</td>\n",
       "      <td>0.518484</td>\n",
       "      <td>0.515248</td>\n",
       "      <td>0.318917</td>\n",
       "    </tr>\n",
       "    <tr>\n",
       "      <th>depth</th>\n",
       "      <td>-7.763148e+02</td>\n",
       "      <td>0.019167</td>\n",
       "      <td>2.052404</td>\n",
       "      <td>-0.946840</td>\n",
       "      <td>-6.085371e+01</td>\n",
       "      <td>-0.040641</td>\n",
       "      <td>-0.048009</td>\n",
       "      <td>0.095968</td>\n",
       "    </tr>\n",
       "    <tr>\n",
       "      <th>table</th>\n",
       "      <td>-3.508278e+03</td>\n",
       "      <td>0.192365</td>\n",
       "      <td>-0.946840</td>\n",
       "      <td>4.992948</td>\n",
       "      <td>1.133318e+03</td>\n",
       "      <td>0.489643</td>\n",
       "      <td>0.468972</td>\n",
       "      <td>0.237996</td>\n",
       "    </tr>\n",
       "    <tr>\n",
       "      <th>price</th>\n",
       "      <td>-1.906317e+07</td>\n",
       "      <td>1742.765364</td>\n",
       "      <td>-60.853712</td>\n",
       "      <td>1133.318064</td>\n",
       "      <td>1.591563e+07</td>\n",
       "      <td>3958.021491</td>\n",
       "      <td>3943.270810</td>\n",
       "      <td>2424.712613</td>\n",
       "    </tr>\n",
       "    <tr>\n",
       "      <th>x</th>\n",
       "      <td>-7.081931e+03</td>\n",
       "      <td>0.518484</td>\n",
       "      <td>-0.040641</td>\n",
       "      <td>0.489643</td>\n",
       "      <td>3.958021e+03</td>\n",
       "      <td>1.258347</td>\n",
       "      <td>1.248789</td>\n",
       "      <td>0.768487</td>\n",
       "    </tr>\n",
       "    <tr>\n",
       "      <th>y</th>\n",
       "      <td>-7.039864e+03</td>\n",
       "      <td>0.515248</td>\n",
       "      <td>-0.048009</td>\n",
       "      <td>0.468972</td>\n",
       "      <td>3.943271e+03</td>\n",
       "      <td>1.248789</td>\n",
       "      <td>1.304472</td>\n",
       "      <td>0.767320</td>\n",
       "    </tr>\n",
       "    <tr>\n",
       "      <th>z</th>\n",
       "      <td>-4.386754e+03</td>\n",
       "      <td>0.318917</td>\n",
       "      <td>0.095968</td>\n",
       "      <td>0.237996</td>\n",
       "      <td>2.424713e+03</td>\n",
       "      <td>0.768487</td>\n",
       "      <td>0.767320</td>\n",
       "      <td>0.498011</td>\n",
       "    </tr>\n",
       "  </tbody>\n",
       "</table>\n",
       "</div>"
      ],
      "text/plain": [
       "              Unnamed: 0        carat       depth        table         price  \\\n",
       "Unnamed: 0  2.424648e+08 -2789.881850 -776.314805 -3508.278095 -1.906317e+07   \n",
       "carat      -2.789882e+03     0.224687    0.019167     0.192365  1.742765e+03   \n",
       "depth      -7.763148e+02     0.019167    2.052404    -0.946840 -6.085371e+01   \n",
       "table      -3.508278e+03     0.192365   -0.946840     4.992948  1.133318e+03   \n",
       "price      -1.906317e+07  1742.765364  -60.853712  1133.318064  1.591563e+07   \n",
       "x          -7.081931e+03     0.518484   -0.040641     0.489643  3.958021e+03   \n",
       "y          -7.039864e+03     0.515248   -0.048009     0.468972  3.943271e+03   \n",
       "z          -4.386754e+03     0.318917    0.095968     0.237996  2.424713e+03   \n",
       "\n",
       "                      x            y            z  \n",
       "Unnamed: 0 -7081.930753 -7039.864013 -4386.754198  \n",
       "carat          0.518484     0.515248     0.318917  \n",
       "depth         -0.040641    -0.048009     0.095968  \n",
       "table          0.489643     0.468972     0.237996  \n",
       "price       3958.021491  3943.270810  2424.712613  \n",
       "x              1.258347     1.248789     0.768487  \n",
       "y              1.248789     1.304472     0.767320  \n",
       "z              0.768487     0.767320     0.498011  "
      ]
     },
     "execution_count": 42,
     "metadata": {},
     "output_type": "execute_result"
    }
   ],
   "source": [
    "diamonds.cov()"
   ]
  },
  {
   "cell_type": "markdown",
   "metadata": {},
   "source": [
    "<a id='s3_11'></a>\n",
    "### **Correlation**\n",
    "* **linear correlation coefficient**\n",
    "    - A measure of relationship between two variables. Very useful for direct interpretation as it takes on values from [-1,1]. Denoted ρxy for a population and rxy for a sample.\n",
    "* **correlation**\n",
    "    - A measure of the relationship between two variables. There are several ways to compute it, the most common being the linear correlation coefficient."
   ]
  }
 ],
 "metadata": {
  "kernelspec": {
   "display_name": "Python 3",
   "language": "python",
   "name": "python3"
  },
  "language_info": {
   "codemirror_mode": {
    "name": "ipython",
    "version": 3
   },
   "file_extension": ".py",
   "mimetype": "text/x-python",
   "name": "python",
   "nbconvert_exporter": "python",
   "pygments_lexer": "ipython3",
   "version": "3.6.4"
  }
 },
 "nbformat": 4,
 "nbformat_minor": 2
}
