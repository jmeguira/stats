{
 "cells": [
  {
   "cell_type": "markdown",
   "metadata": {},
   "source": [
    "# Statistics for Data Science and Business Analysis\n",
    "\n",
    "This notebook is meant to serve as a personal reference for the material covered in the Udemy course [Statistics for Data Science and Business Analysis](https://www.udemy.com/statistics-for-data-science-and-business-analysis).\n",
    "\n",
    "I will define and illustrate (where applicable) the concepts that are covered."
   ]
  },
  {
   "cell_type": "markdown",
   "metadata": {},
   "source": [
    "Contents:\n",
    "- [Section 2: Sample vs. Population Data](#section2) \n",
    "    - [Terms](#section2terms)\n",
    "    - [Notes](#section2notes)\n",
    "    \n",
    "     \n",
    "- [Section 3: Fundamentals of Descriptive Statistics](#section3)\n",
    "    - [Terms](#section3terms)\n",
    "    - [Notes](#section3notes)"
   ]
  },
  {
   "cell_type": "markdown",
   "metadata": {},
   "source": [
    "<a id='section2'></a>\n",
    "## Section 2: Sample vs. Population Data"
   ]
  },
  {
   "cell_type": "markdown",
   "metadata": {},
   "source": [
    "<a id='section2terms'></a>\n",
    "### Terms\n",
    "\n",
    "* **population**\n",
    "    - the collections of all items of interest in a study; denoted N\n",
    "* **sample**\n",
    "    - a subset of the population; denoted n\n",
    "* **parameter**\n",
    "    - a value that refers to a population, the opposite of a statistic\n",
    "* **statistic**\n",
    "    - a value that refers to a sample, the opposite of a parameter\n",
    "* **random sample**\n",
    "    - a random sample is collected when each member of the sample is chosen from the population strictly by chance"
   ]
  },
  {
   "cell_type": "markdown",
   "metadata": {},
   "source": [
    "<a id='section2notes'></a>\n",
    "### Notes\n",
    "\n",
    "* You will almost always be working with sample data and be making data driven decisions and inferences based on  it\n",
    "* Samples are key to accurate statistical insights and have two defining characteristics, randomness and representativeness\n",
    "    * a random sample is chosen when each member of the population is chosen strictly by chance\n",
    "    * a representative sample is a subset of the population that accurately reflects the members of the entire population\n",
    "    "
   ]
  },
  {
   "cell_type": "code",
   "execution_count": 1,
   "metadata": {},
   "outputs": [],
   "source": [
    "import pandas as pd\n",
    "import matplotlib.pyplot as plt\n",
    "import numpy as np\n",
    "\n",
    "df = pd.read_csv('mtcars.csv')"
   ]
  },
  {
   "cell_type": "code",
   "execution_count": 2,
   "metadata": {},
   "outputs": [
    {
     "name": "stdout",
     "output_type": "stream",
     "text": [
      "<class 'pandas.core.frame.DataFrame'>\n",
      "RangeIndex: 32 entries, 0 to 31\n",
      "Data columns (total 12 columns):\n",
      "model    32 non-null object\n",
      "mpg      32 non-null float64\n",
      "cyl      32 non-null int64\n",
      "disp     32 non-null float64\n",
      "hp       32 non-null int64\n",
      "drat     32 non-null float64\n",
      "wt       32 non-null float64\n",
      "qsec     32 non-null float64\n",
      "vs       32 non-null int64\n",
      "am       32 non-null int64\n",
      "gear     32 non-null int64\n",
      "carb     32 non-null int64\n",
      "dtypes: float64(5), int64(6), object(1)\n",
      "memory usage: 3.1+ KB\n"
     ]
    }
   ],
   "source": [
    "df.info()"
   ]
  },
  {
   "cell_type": "markdown",
   "metadata": {},
   "source": [
    "The **population** of the mtcars dataset is all 32 entries within the dataset whereas a **sample** is a subset."
   ]
  },
  {
   "cell_type": "code",
   "execution_count": 3,
   "metadata": {},
   "outputs": [],
   "source": [
    "sample = df.sample(5)"
   ]
  },
  {
   "cell_type": "markdown",
   "metadata": {},
   "source": [
    "This **sample** of 5 cars pulled from the dataset is pulled using datas built in sample function."
   ]
  },
  {
   "cell_type": "markdown",
   "metadata": {},
   "source": [
    "The mean mpg of the mtcars **population** would be a **parameter**"
   ]
  },
  {
   "cell_type": "code",
   "execution_count": 4,
   "metadata": {},
   "outputs": [
    {
     "data": {
      "text/plain": [
       "20.090624999999996"
      ]
     },
     "execution_count": 4,
     "metadata": {},
     "output_type": "execute_result"
    }
   ],
   "source": [
    "df['mpg'].mean()"
   ]
  },
  {
   "cell_type": "markdown",
   "metadata": {},
   "source": [
    "The mean mpg of the **sample** that we pulled would be known as a **statistic**"
   ]
  },
  {
   "cell_type": "code",
   "execution_count": 5,
   "metadata": {},
   "outputs": [
    {
     "data": {
      "text/plain": [
       "20.46"
      ]
     },
     "execution_count": 5,
     "metadata": {},
     "output_type": "execute_result"
    }
   ],
   "source": [
    "sample['mpg'].mean()"
   ]
  },
  {
   "cell_type": "markdown",
   "metadata": {},
   "source": [
    "<a id='section3'></a>\n",
    "## Section 3: Fundamentals of Descriptive Statistics"
   ]
  },
  {
   "cell_type": "markdown",
   "metadata": {},
   "source": [
    "<a id='section3terms'></a>\n",
    "### Terms\n",
    "\n",
    "\n",
    "#### **Types of Data**\n",
    "\n",
    "* **representative sample**\n",
    "    - A representative sample is a subset of the population that accurately reflects the members of the entire population.\n",
    "* **variable**\n",
    "   - a variable is a set of characteristics of a person, object, thing, idea, etc. variables can vary from case to case\n",
    "* **types of data**\n",
    "   - a way to classify data. there are two types of data - categorical and numerical\n",
    "* **categorical data**\n",
    "   - a subset of types of data. describes categories or groups\n",
    "* **numerical data**\n",
    "    - A subset of types of data. Represents numbers. Can be further divided into discrete and continuous.\n",
    "* **discrete data**\n",
    "    - Data that can be counted in a finite matter. Opposite of continuous.\n",
    "* **continuous data**\n",
    "        - Data that is 'infinite' and impossible to count. Opposite of discrete.\n",
    "        \n",
    "        \n",
    "#### **Levels of Measurement**\n",
    "* **levels of measurement**\n",
    "    - A way to classify data. There are two levels of measurement - qualitative and quantitative, which are further divided into nominal & ordinal, and ratio & interval, respectively. \n",
    "* **qualitative data**\n",
    "    - A subset of levels of measurement. There are two types of qualitative data : nominal and ordinal.\n",
    "* **quantitative data**\n",
    "    - A subset of levels of measurement. There are two types of quantitative data - ratio and interval.\n",
    "* **nominal**\n",
    "    - Refers to variables that describe different categories and cannot be put in any order.\n",
    "* **ordinal**\n",
    "    - Refers to variables that describe different categories, but can be ordered.\n",
    "* **ratio**\n",
    "    - A number, no matter if whole or a fraction. There exists a unique and unambiguous zero point. \n",
    "* **interval**\n",
    "    - An interval variable represents a number or an interval. There isn't a unique and unambiguous zero point. For example, degrees in Celsius and Fahrenheit are interval variables, while Kelvin is a ratio variable.\n",
    "        \n",
    "        \n",
    "#### **Categorical Variables: Visualization Techniques**\n",
    "* **frequency distribution table**\n",
    "    - A table that represents the frequency of each variable.\n",
    "* **frequency**\n",
    "    - Measures the occurrence of a variable.\n",
    "* **absolute frequency**\n",
    "    - Measures the NUMBER of occurrences of a variable.\n",
    "* **relative frequency**\n",
    "    - Measures the RELATIVE NUMBER of occurrences of a variable. Usually, expressed in percentages. \n",
    "* **cumulative frequency**\n",
    "    - The sum of relative frequencies so far. The cumulative frequency of all members is 100% or 1. \n",
    "* **pareto diagram**\n",
    "    - A special type of bar chart, where frequencies are shown in descending order. There is an additional line on the chart, showing the cumulative frequency.\n",
    "        \n",
    "        \n",
    "#### **The Histogram**\n",
    "* **histogram**\n",
    "   - A type of bar chart that represents numerical data. It is divided into intervals (or bins) that are not overlapping and span from the first observation to the last. The intervals (bins) are adjacent - where one stops, the other starts.\n",
    "* **bins**\n",
    "   - The intervals that are represented in a histogram.\n",
    "    \n",
    "    \n",
    "#### **Cross table and Scatter Plot**\n",
    "* **cross table**\n",
    "    - A table which represents categorical data. On one axis we have the categories, and on the other - their frequencies. It can be built with absolute or relative frequencies.\n",
    "* **contingency table**\n",
    "    - See cross table.\n",
    "* **scatter plot**\n",
    "    - A plot that represents numerical data. Graphically, each observation looks like a point on the scatter plot.\n",
    "    \n",
    "    \n",
    "#### **Mean, median, and mode**\n",
    "* **measures of central tendency**\n",
    "    - Measures that describe the data through the so called 'averages'. The most common are the mean, median and mode. There is also geometric mean, harmonic mean, weighted-average mean, etc.\n",
    "* **mean**\n",
    "    - The simple average of the dataset. Denoted μ.\n",
    "* **median**\n",
    "    - The middle number in an ordered dataset.\n",
    "* **mode**\n",
    "    - The value that occurs most often. A dataset can have 0, 1 or multiple modes.\n",
    "    \n",
    "    \n",
    "#### **Skewness**\n",
    "* **measures of asymmetry**\n",
    "    - Measures that describe the data through the level of symmetry that is observed. The most common are skewness and kurtosis.\n",
    "* **skewness**\n",
    "    - A measure that describes the symmetry of the dataset around its mean.\n",
    "    \n",
    "    \n",
    "#### **Variance**\n",
    "* **sample formula**\n",
    "    - A formula, that is calculated on a sample. The value obtained is a statistic.\n",
    "* **population formula**\n",
    "        - A formula, that is calculated on a population. The value obtained is a parameter.\n",
    "* **measures of variability**\n",
    "    - Measures that describe the data through the level of dispersion (variability). The most common ones are variance and standard deviation.\n",
    "* **variance**\n",
    "    - Measures the dispersion of the dataset around its mean. It is measured in units squared. Denoted σ2 for a population and s2 for a sample.\n",
    "    \n",
    "    \n",
    "#### **Standard Deviationa nd Coefficientof Variation**\n",
    "* **standard deviation**\n",
    "    - Measures the dispersion of the dataset around its mean. It is measured in original units. It is equal to the square root of the variance. Denoted σ for a population and s for a sample.\n",
    "* **coefficient of variation**\n",
    "    - Measures the dispersion of the dataset around its mean. It is also called 'relative standard deviation'. It is useful for comparing different datasets in terms of variability.\n",
    "    \n",
    "    \n",
    "#### **Covariance**\n",
    "* **univariate measure**\n",
    "    - A measure which refers to a single variable.\n",
    "* **multivariate measure**\n",
    "    - A measure which refers to multiple variables.\n",
    "* **covariance**\n",
    "    - A measure of relationship between two variables. Usually, because of its scale of measurement, covariance is not directly interpretable. Denoted σxy for a population and sxy for a sample.\n",
    "    \n",
    "    \n",
    "#### **Correlation**\n",
    "* **linear correlation coefficient**\n",
    "    - A measure of relationship between two variables. Very useful for direct interpretation as it takes on values from [-1,1]. Denoted ρxy for a population and rxy for a sample.\n",
    "* **correlation**\n",
    "    - A measure of the relationship between two variables. There are several ways to compute it, the most common being the linear correlation coefficient."
   ]
  },
  {
   "cell_type": "markdown",
   "metadata": {},
   "source": [
    "<a id='section3notes'></a>\n",
    "### Notes"
   ]
  },
  {
   "cell_type": "markdown",
   "metadata": {},
   "source": [
    "#### **Types of Data**\n",
    "\n",
    "\n",
    "- We can classify data in two main ways, based on its type and its measurement level.\n",
    "- Numbers can be both interval or ratio, but you have to be careful with the context you are operating in."
   ]
  },
  {
   "cell_type": "code",
   "execution_count": 6,
   "metadata": {},
   "outputs": [
    {
     "name": "stdout",
     "output_type": "stream",
     "text": [
      "<class 'pandas.core.frame.DataFrame'>\n",
      "RangeIndex: 53940 entries, 0 to 53939\n",
      "Data columns (total 11 columns):\n",
      "Unnamed: 0    53940 non-null int64\n",
      "carat         53940 non-null float64\n",
      "cut           53940 non-null object\n",
      "color         53940 non-null object\n",
      "clarity       53940 non-null object\n",
      "depth         53940 non-null float64\n",
      "table         53940 non-null float64\n",
      "price         53940 non-null int64\n",
      "x             53940 non-null float64\n",
      "y             53940 non-null float64\n",
      "z             53940 non-null float64\n",
      "dtypes: float64(6), int64(2), object(3)\n",
      "memory usage: 4.5+ MB\n"
     ]
    }
   ],
   "source": [
    "diamonds = pd.read_csv('diamonds.csv')\n",
    "diamonds.info()"
   ]
  },
  {
   "cell_type": "markdown",
   "metadata": {},
   "source": [
    "#### **Categorical Variables: Visualization Techniques**\n",
    "\n",
    "\n",
    "- Visualizing data is the most intuitive way to interpret it. It is much easier to visualize data if you know what type it is.\n",
    "- Some of the most common ways to visualize categorical data are frequency distribution tables, bar charts, pie charts, and pareto diagrams."
   ]
  },
  {
   "cell_type": "markdown",
   "metadata": {},
   "source": [
    "**Frequency Distribution Table**"
   ]
  },
  {
   "cell_type": "code",
   "execution_count": 7,
   "metadata": {
    "scrolled": false
   },
   "outputs": [
    {
     "data": {
      "text/plain": [
       "Fair          1610\n",
       "Good          4906\n",
       "Very Good    12082\n",
       "Premium      13791\n",
       "Ideal        21551\n",
       "Name: cut, dtype: int64"
      ]
     },
     "execution_count": 7,
     "metadata": {},
     "output_type": "execute_result"
    }
   ],
   "source": [
    "diamonds['cut'].value_counts(ascending=True)"
   ]
  },
  {
   "cell_type": "code",
   "execution_count": 8,
   "metadata": {
    "scrolled": true
   },
   "outputs": [
    {
     "data": {
      "text/plain": [
       "Ideal        21551\n",
       "Premium      13791\n",
       "Very Good    12082\n",
       "Good          4906\n",
       "Fair          1610\n",
       "Name: cut, dtype: int64"
      ]
     },
     "execution_count": 8,
     "metadata": {},
     "output_type": "execute_result"
    }
   ],
   "source": [
    "diamonds['cut'].value_counts(ascending=False)"
   ]
  },
  {
   "cell_type": "markdown",
   "metadata": {},
   "source": [
    "#### **Bar Chart**"
   ]
  },
  {
   "cell_type": "code",
   "execution_count": 15,
   "metadata": {},
   "outputs": [
    {
     "data": {
      "image/png": "[encoded data removed]",
      "text/plain": [
       "<matplotlib.figure.Figure at 0x99d2b38>"
      ]
     },
     "metadata": {},
     "output_type": "display_data"
    }
   ],
   "source": [
    "y_pos = np.arange(len(diamonds['cut'].unique()))\n",
    "plt.bar(y_pos, diamonds['cut'].value_counts(), align = 'center')\n",
    "plt.xticks(y_pos, diamonds['cut'].unique())\n",
    "plt.xlabel('Cut')\n",
    "plt.ylabel('Count')\n",
    "plt.title('Diamond Cut Bar Chart')\n",
    "\n",
    "plt.show()"
   ]
  },
  {
   "cell_type": "code",
   "execution_count": 17,
   "metadata": {},
   "outputs": [
    {
     "data": {
      "image/png": "[encoded data removed]",
      "text/plain": [
       "<matplotlib.figure.Figure at 0x9a9f4a8>"
      ]
     },
     "metadata": {},
     "output_type": "display_data"
    }
   ],
   "source": [
    "y_pos = np.arange(len(diamonds['color'].unique()))\n",
    "plt.bar(y_pos, diamonds['color'].value_counts(ascending = True), align = 'center')\n",
    "plt.xticks(y_pos, diamonds['color'].unique())\n",
    "plt.xlabel('Color')\n",
    "plt.ylabel('Count')\n",
    "plt.title('Diamond Color Bar Chart')\n",
    "\n",
    "plt.show()"
   ]
  },
  {
   "cell_type": "code",
   "execution_count": null,
   "metadata": {},
   "outputs": [],
   "source": []
  }
 ],
 "metadata": {
  "kernelspec": {
   "display_name": "Python 3",
   "language": "python",
   "name": "python3"
  },
  "language_info": {
   "codemirror_mode": {
    "name": "ipython",
    "version": 3
   },
   "file_extension": ".py",
   "mimetype": "text/x-python",
   "name": "python",
   "nbconvert_exporter": "python",
   "pygments_lexer": "ipython3",
   "version": "3.6.4"
  }
 },
 "nbformat": 4,
 "nbformat_minor": 2
}
